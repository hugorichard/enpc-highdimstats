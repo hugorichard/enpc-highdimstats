{
  "cells": [
    {
      "cell_type": "code",
      "execution_count": 95,
      "metadata": {
        "id": "vzqL8DwIn5tK"
      },
      "outputs": [],
      "source": [
        "import numpy as np\n",
        "import matplotlib.pyplot as plt\n",
        "import statsmodels.api as sm\n",
        "import scipy\n",
        "import math as m\n"
      ]
    },
    {
      "cell_type": "markdown",
      "metadata": {
        "id": "p_Npo1BOn5tR"
      },
      "source": [
        "# Random numbers\n",
        "\n",
        "Numpy let you generate random numbers. Using the random number generators given as examples, implement the functions below."
      ]
    },
    {
      "cell_type": "code",
      "execution_count": 13,
      "metadata": {
        "colab": {
          "base_uri": "https://localhost:8080/"
        },
        "id": "umjn0-5Kn5tW",
        "outputId": "77efcfdc-4ad5-4581-eefa-cce263fc717e"
      },
      "outputs": [
        {
          "output_type": "execute_result",
          "data": {
            "text/plain": [
              "-0.022480621054556123"
            ]
          },
          "metadata": {},
          "execution_count": 13
        }
      ],
      "source": [
        "np.random.normal()"
      ]
    },
    {
      "cell_type": "code",
      "execution_count": 14,
      "metadata": {
        "colab": {
          "base_uri": "https://localhost:8080/"
        },
        "id": "NXE9KSFFn5tZ",
        "outputId": "3f1f8486-eca8-4b20-ed8d-11cbc330a482"
      },
      "outputs": [
        {
          "output_type": "execute_result",
          "data": {
            "text/plain": [
              "array([ 9.28050528,  9.02849548, 11.44746155])"
            ]
          },
          "metadata": {},
          "execution_count": 14
        }
      ],
      "source": [
        "mu = 10\n",
        "variance = 2\n",
        "np.random.normal(mu, variance, size=(3, ))"
      ]
    },
    {
      "cell_type": "code",
      "execution_count": 15,
      "metadata": {
        "colab": {
          "base_uri": "https://localhost:8080/"
        },
        "id": "_3dQWUyEn5tc",
        "outputId": "274707b8-4fd0-423e-8051-3bfb6a7f46a8"
      },
      "outputs": [
        {
          "output_type": "execute_result",
          "data": {
            "text/plain": [
              "(9, 1)"
            ]
          },
          "metadata": {},
          "execution_count": 15
        }
      ],
      "source": [
        "p = 0.8\n",
        "n = 10\n",
        "np.random.binomial(n, p), np.random.binomial(1, p) # Binomial(n,p), Bernoulli(p)"
      ]
    },
    {
      "cell_type": "code",
      "execution_count": 16,
      "metadata": {
        "colab": {
          "base_uri": "https://localhost:8080/"
        },
        "id": "ojGQ7wsAn5tg",
        "outputId": "4d12e06f-d63e-4c44-e475-8c0e539677e5"
      },
      "outputs": [
        {
          "output_type": "execute_result",
          "data": {
            "text/plain": [
              "array([1, 1, 1, 1, 1])"
            ]
          },
          "metadata": {},
          "execution_count": 16
        }
      ],
      "source": [
        "np.random.binomial(1, p, size=(5, ))"
      ]
    },
    {
      "cell_type": "code",
      "execution_count": 17,
      "metadata": {
        "colab": {
          "base_uri": "https://localhost:8080/"
        },
        "id": "WrslsPVVn5tk",
        "outputId": "8e0661ba-54ae-48bf-904e-4836f0f47b0f"
      },
      "outputs": [
        {
          "output_type": "execute_result",
          "data": {
            "text/plain": [
              "[array([[ 3.04133182, -0.7618349 , -2.09535178],\n",
              "        [-0.7618349 ,  3.31089133, -0.61026798],\n",
              "        [-2.09535178, -0.61026798,  3.42569592]]),\n",
              " array([[10.59244253, -3.97024679,  5.86676138],\n",
              "        [-3.97024679,  5.21469601, -2.65869232],\n",
              "        [ 5.86676138, -2.65869232,  5.70905089]]),\n",
              " array([[10.26221634,  0.30680997,  0.84552063],\n",
              "        [ 0.30680997,  9.68695397, -2.95650254],\n",
              "        [ 0.84552063, -2.95650254,  6.40178509]])]"
            ]
          },
          "metadata": {},
          "execution_count": 17
        }
      ],
      "source": [
        "from scipy import linalg\n",
        "\n",
        "def generate_wishart(n, covariance, k=1):\n",
        "\n",
        "    p = np.eye(3).shape[0]\n",
        "    Y = [np.random.multivariate_normal(np.zeros(p), covariance, size = n) for i in range(k)]\n",
        "    X = [np.matmul(y.T, y) for y in Y]\n",
        "    return X\n",
        "    \"\"\"\n",
        "    Return k Wishart matrices with degrees of freedom n\n",
        "    and given covariance.\n",
        "    \n",
        "    Parameters\n",
        "    ----------\n",
        "    n: int\n",
        "        degrees of freedom\n",
        "    covariance: np array of shape (p, p)\n",
        "        covariance matrix\n",
        "    k: int or None (optional)\n",
        "        number of wishart matrices to return\n",
        "    \n",
        "    Return\n",
        "    ------\n",
        "    W: np array of shape (k, p, p)\n",
        "        k Wishart matrices\n",
        "    \"\"\"    \n",
        "generate_wishart(5, np.eye(3), 3)"
      ]
    },
    {
      "cell_type": "code",
      "execution_count": 18,
      "metadata": {
        "colab": {
          "base_uri": "https://localhost:8080/"
        },
        "id": "JF20-d62n5tn",
        "outputId": "52f025dd-25e0-489b-a3d3-e7ce39772466"
      },
      "outputs": [
        {
          "output_type": "execute_result",
          "data": {
            "text/plain": [
              "5"
            ]
          },
          "metadata": {},
          "execution_count": 18
        }
      ],
      "source": [
        "np.random.choice(6) + 1 # roll a die"
      ]
    },
    {
      "cell_type": "code",
      "execution_count": 19,
      "metadata": {
        "colab": {
          "base_uri": "https://localhost:8080/"
        },
        "id": "Y7H8eJqFn5tp",
        "outputId": "038199d3-4c81-4353-972f-7094e1c6e009"
      },
      "outputs": [
        {
          "output_type": "execute_result",
          "data": {
            "text/plain": [
              "array([3, 5, 2, 3, 4, 6, 2, 3, 4, 1])"
            ]
          },
          "metadata": {},
          "execution_count": 19
        }
      ],
      "source": [
        "1 + np.random.choice(6, p =[1/6, 1/6, 1/6, 1/6, 1/6, 1/6], size=(10, ))  # roll a die 10 times"
      ]
    },
    {
      "cell_type": "code",
      "execution_count": 20,
      "metadata": {
        "colab": {
          "base_uri": "https://localhost:8080/"
        },
        "id": "ADpNm_rSn5tr",
        "outputId": "ee933c75-5665-4377-a8f1-ba2511967037"
      },
      "outputs": [
        {
          "output_type": "execute_result",
          "data": {
            "text/plain": [
              "array([3, 6, 3, 5, 6, 6, 1, 3, 6, 6])"
            ]
          },
          "metadata": {},
          "execution_count": 20
        }
      ],
      "source": [
        "# roll a biased die 10 times\n",
        "1 + np.random.choice(6, p =[1/10, 1/10, 1/10, 1/10, 1/10, 1/2], size=(10, )) "
      ]
    },
    {
      "cell_type": "code",
      "execution_count": 21,
      "metadata": {
        "colab": {
          "base_uri": "https://localhost:8080/",
          "height": 513
        },
        "id": "SctiOWa9n5tv",
        "outputId": "9a13458d-edfd-4dd7-a0c9-acd080746a6e"
      },
      "outputs": [
        {
          "output_type": "display_data",
          "data": {
            "text/plain": [
              "<Figure size 432x288 with 1 Axes>"
            ],
            "image/png": "[encoded data removed]"
          },
          "metadata": {
            "needs_background": "light"
          }
        },
        {
          "output_type": "display_data",
          "data": {
            "text/plain": [
              "<Figure size 432x288 with 1 Axes>"
            ],
            "image/png": "[encoded data removed]"
          },
          "metadata": {
            "needs_background": "light"
          }
        }
      ],
      "source": [
        "def biased_die_histogram(p1, k):\n",
        "    assert len(p1)==6, \"Il faut que la taille de p soit égale à 6\"\n",
        "    results = 1 + np.random.choice(6, p =p1, size=k) \n",
        "    plt.hist(results, bins  = [1,2,3,4,5,6,7], color = \"red\", width=0.5, align='mid')\n",
        "    plt.show()\n",
        "    \"\"\"\n",
        "    Draw a biased die with probabilities p, k times, and plot the resulting histograms.\n",
        "    There should be six bars.\n",
        "    \n",
        "    Parameters\n",
        "    ----------\n",
        "    p : np array of shape (6,)\n",
        "        The probabilities associated with each outcome of the dice.\n",
        "    k: int\n",
        "        Number of rolls\n",
        "    \"\"\"\n",
        "biased_die_histogram([1/6, 1/6, 1/6, 1/6, 1/6, 1/6], 100)\n",
        "biased_die_histogram([1/10, 1/10, 1/10, 1/10, 1/10, 1/2], 100)"
      ]
    },
    {
      "cell_type": "markdown",
      "metadata": {
        "id": "bXcGMli9n5t0"
      },
      "source": [
        "# SVD, Pseudo-Inverse in numpy\n",
        "\n",
        "Generate a random matrix A of size (3, 6) with iid N(0,1) entries, and verify that the singular values squared are the eigenvalues of the matrix $A^TA$.\n",
        "\n",
        "Verify that the pseudo-inverse computed by ``np.linalg.pinv`` is the same as the pseudo-inverse computed from its definition using the SVD."
      ]
    },
    {
      "cell_type": "code",
      "execution_count": 22,
      "metadata": {
        "colab": {
          "base_uri": "https://localhost:8080/"
        },
        "id": "U2uF2uiSn5t3",
        "outputId": "666f1ee4-1a88-4b07-fa2b-5855b49b4be1"
      },
      "outputs": [
        {
          "output_type": "stream",
          "name": "stdout",
          "text": [
            "Mêmes valeurs propores ? :  True\n",
            "Même inverse ? :  True\n"
          ]
        }
      ],
      "source": [
        "def test_singular_values_eigenvalues():\n",
        "    \"\"\"Test that the square of the singular values of X gives the eigenvalue of X^T.dot(X)\n",
        "    \"\"\"\n",
        "    A = np.random.normal(0, 1, size = (3,6))\n",
        "    U,S,V = np.linalg.svd(A)\n",
        "    eig_vals_A_AT = np.sqrt(np.linalg.eigvals(np.matmul(A,A.T)))\n",
        "    eig_vals_A_AT = np.sort(eig_vals_A_AT)[::-1] #Sorting them in descending order\n",
        "    print(\"Mêmes valeurs propores ? : \", np.min(np.isclose(S, eig_vals_A_AT)))\n",
        "\n",
        "test_singular_values_eigenvalues()\n",
        "\n",
        "def test_pinv():\n",
        "    \"\"\"Test that computing the pseudo inverse with pinv or via svd gives the same result\n",
        "    \"\"\"\n",
        "    A = np.random.normal(0, 1, size = (3,6))\n",
        "    U,S,V = np.linalg.svd(A, full_matrices=False)\n",
        "    diagonal = np.zeros((S.shape[0], S.shape[0]))\n",
        "    inverse_svd = np.matmul(V.T, np.matmul(np.diag(1/S), U.T))\n",
        "    print(\"Même inverse ? : \", np.min(np.isclose(inverse_svd, np.linalg.pinv(A))))\n",
        "\n",
        "test_pinv()"
      ]
    },
    {
      "cell_type": "markdown",
      "metadata": {
        "id": "IwiVMNLyn5t5"
      },
      "source": [
        "# Boxplots\n",
        "\n",
        "Using matplotlib, for each $\\theta = 1,2,...20$, generate 100 independent copies of a random variable with $N(\\theta, \\theta^{-1})$ distribution. Plot the generated random variables with boxplots, one boxplot for each value of $\\theta$ and the x-axis representing $\\theta$."
      ]
    },
    {
      "cell_type": "code",
      "execution_count": 27,
      "metadata": {
        "id": "YWKSahS9n5t6",
        "outputId": "b2d19f02-2001-47cf-9e68-31dbcd3b2c2e",
        "colab": {
          "base_uri": "https://localhost:8080/",
          "height": 268
        }
      },
      "outputs": [
        {
          "output_type": "display_data",
          "data": {
            "text/plain": [
              "<Figure size 432x288 with 1 Axes>"
            ],
            "image/png": "[encoded data removed]"
          },
          "metadata": {
            "needs_background": "light"
          }
        }
      ],
      "source": [
        "def plot_boxplot_normal_increasing_mean_and_variance():\n",
        "    \"\"\"Using matplotlib, for each theta = 1,2,...,20, \n",
        "    generate 100 independent copies of a random variable \n",
        "    with N(theta, theta^{-1}) distribution. \n",
        "    Plot the generated random variables with boxplots, \n",
        "    one boxplot for each value of theta and \n",
        "    the x-axis representing theta.\n",
        "    \"\"\"\n",
        "    data = [list() for i in range(1, 20)]\n",
        "    for theta in range(1,20):\n",
        "      for i in range(100):\n",
        "        N = np.random.normal(theta, 1/theta)\n",
        "        data[theta-1].append(N)\n",
        "    plt.boxplot(data)\n",
        "\n",
        "plot_boxplot_normal_increasing_mean_and_variance()"
      ]
    },
    {
      "cell_type": "markdown",
      "metadata": {
        "id": "AxGpJ1_xn5t9"
      },
      "source": [
        "# Quantile quantile plots\n",
        "\n",
        "In order to check visually that a collection of random variables follow a certain distribution, quantile quantile plots are convenient."
      ]
    },
    {
      "cell_type": "code",
      "execution_count": 24,
      "metadata": {
        "id": "vWum8p6Rn5t-"
      },
      "outputs": [],
      "source": [
        "n = 10\n",
        "X = np.random.randint(1000, size=n) # generate n numbers\n",
        "X_sort = np.sort(X) # sort them\n",
        "scores  = np.arange(1, n + 1) / (n+1) # their corresponding scores (many other methods are possible)"
      ]
    },
    {
      "cell_type": "code",
      "execution_count": 25,
      "metadata": {
        "id": "Sh3Seghun5uA",
        "outputId": "5f84ea75-c681-42a8-f3a4-e6a1f10a05c7",
        "colab": {
          "base_uri": "https://localhost:8080/",
          "height": 827
        }
      },
      "outputs": [
        {
          "output_type": "display_data",
          "data": {
            "text/plain": [
              "<Figure size 432x288 with 1 Axes>"
            ],
            "image/png": "[encoded data removed]"
          },
          "metadata": {
            "needs_background": "light"
          }
        },
        {
          "output_type": "display_data",
          "data": {
            "text/plain": [
              "<Figure size 432x288 with 1 Axes>"
            ],
            "image/png": "[encoded data removed]"
          },
          "metadata": {
            "needs_background": "light"
          }
        },
        {
          "output_type": "display_data",
          "data": {
            "text/plain": [
              "<Figure size 432x288 with 1 Axes>"
            ],
            "image/png": "[encoded data removed]"
          },
          "metadata": {
            "needs_background": "light"
          }
        },
        {
          "output_type": "stream",
          "name": "stdout",
          "text": [
            "20%, 50% and 60% quantiles: [-1.37638192  0.          0.3249197 ]\n"
          ]
        }
      ],
      "source": [
        "# Getting theoretical quantities on distributions\n",
        "cauchy = scipy.stats.cauchy # many others are available\n",
        "# the probability density function\n",
        "X = np.arange(-100, 100, 0.1)\n",
        "plt.figure()\n",
        "plt.title(\"The pdf of Cauchy density\")\n",
        "plt.plot(X, cauchy.pdf(X))\n",
        "plt.show()\n",
        "# the cumulative distribution function\n",
        "X = np.arange(-100, 100, 0.1)\n",
        "plt.figure()\n",
        "plt.title(\"The cdf of Cauchy density\")\n",
        "plt.plot(X, cauchy.cdf(X))\n",
        "plt.show()\n",
        "# the percent point function (inverse of cdf)\n",
        "X = np.arange(0, 1, 0.01)\n",
        "plt.figure()\n",
        "plt.title(\"The ppf of Cauchy density\")\n",
        "plt.plot(X, cauchy.ppf(X))\n",
        "plt.show()\n",
        "# Theoretical 20%, 50% and 60% quantiles of cauchy distribution\n",
        "quantiles = cauchy.ppf((0.2, 0.5, 0.6))\n",
        "print(\"20%, 50% and 60% quantiles:\", quantiles)"
      ]
    },
    {
      "cell_type": "markdown",
      "metadata": {
        "id": "C2ay7KWSn5uC"
      },
      "source": [
        "1. Generate 100 independent copies of N(1,3) random variables and plot the QQ-plot\n",
        "against the theoretical quantiles of the N(0,1), N(5, 3) and N(1,3) distribution. Superpose on the plot the line y=x.\n",
        "\n",
        "2. Generate 100 independent copies of chi-square random variables with 5 degrees of freedom,\n",
        "and compare those aginst the theoretical quantiles of the N(5,1) distribution, the $\\chi^2_4$ distribution, the $\\chi^2_5$ distribution, the $\\chi^2_6$ distribution.Superpose on the plot the line y=x."
      ]
    },
    {
      "cell_type": "code",
      "execution_count": 26,
      "metadata": {
        "id": "aoYHmjIYn5uD",
        "outputId": "f53ce641-7bf2-476f-d07d-24fbd7552758",
        "colab": {
          "base_uri": "https://localhost:8080/",
          "height": 354
        }
      },
      "outputs": [
        {
          "output_type": "error",
          "ename": "NotImplementedError",
          "evalue": "ignored",
          "traceback": [
            "\u001b[0;31m---------------------------------------------------------------------------\u001b[0m",
            "\u001b[0;31mNotImplementedError\u001b[0m                       Traceback (most recent call last)",
            "\u001b[0;32m<ipython-input-26-fa407db4868c>\u001b[0m in \u001b[0;36m<module>\u001b[0;34m()\u001b[0m\n\u001b[1;32m     22\u001b[0m     \u001b[0msm\u001b[0m\u001b[0;34m.\u001b[0m\u001b[0mqqplot\u001b[0m\u001b[0;34m(\u001b[0m\u001b[0mX\u001b[0m\u001b[0;34m,\u001b[0m \u001b[0mline\u001b[0m\u001b[0;34m=\u001b[0m\u001b[0;34m'45'\u001b[0m\u001b[0;34m)\u001b[0m\u001b[0;34m\u001b[0m\u001b[0;34m\u001b[0m\u001b[0m\n\u001b[1;32m     23\u001b[0m \u001b[0;34m\u001b[0m\u001b[0m\n\u001b[0;32m---> 24\u001b[0;31m \u001b[0mtest_qqplot_sm\u001b[0m\u001b[0;34m(\u001b[0m\u001b[0;34m)\u001b[0m\u001b[0;34m\u001b[0m\u001b[0;34m\u001b[0m\u001b[0m\n\u001b[0m",
            "\u001b[0;32m<ipython-input-26-fa407db4868c>\u001b[0m in \u001b[0;36mtest_qqplot_sm\u001b[0;34m()\u001b[0m\n\u001b[1;32m     19\u001b[0m     \"\"\"\n\u001b[1;32m     20\u001b[0m     \u001b[0mX\u001b[0m \u001b[0;34m=\u001b[0m \u001b[0mnp\u001b[0m\u001b[0;34m.\u001b[0m\u001b[0mrandom\u001b[0m\u001b[0;34m.\u001b[0m\u001b[0mnormal\u001b[0m\u001b[0;34m(\u001b[0m\u001b[0;36m0\u001b[0m\u001b[0;34m,\u001b[0m \u001b[0;36m1\u001b[0m\u001b[0;34m,\u001b[0m \u001b[0msize\u001b[0m\u001b[0;34m=\u001b[0m\u001b[0;36m100\u001b[0m\u001b[0;34m)\u001b[0m\u001b[0;34m\u001b[0m\u001b[0;34m\u001b[0m\u001b[0m\n\u001b[0;32m---> 21\u001b[0;31m     \u001b[0mqqplot\u001b[0m\u001b[0;34m(\u001b[0m\u001b[0mX\u001b[0m\u001b[0;34m,\u001b[0m \u001b[0mscipy\u001b[0m\u001b[0;34m.\u001b[0m\u001b[0mstats\u001b[0m\u001b[0;34m.\u001b[0m\u001b[0mnorm\u001b[0m\u001b[0;34m)\u001b[0m\u001b[0;34m\u001b[0m\u001b[0;34m\u001b[0m\u001b[0m\n\u001b[0m\u001b[1;32m     22\u001b[0m     \u001b[0msm\u001b[0m\u001b[0;34m.\u001b[0m\u001b[0mqqplot\u001b[0m\u001b[0;34m(\u001b[0m\u001b[0mX\u001b[0m\u001b[0;34m,\u001b[0m \u001b[0mline\u001b[0m\u001b[0;34m=\u001b[0m\u001b[0;34m'45'\u001b[0m\u001b[0;34m)\u001b[0m\u001b[0;34m\u001b[0m\u001b[0;34m\u001b[0m\u001b[0m\n\u001b[1;32m     23\u001b[0m \u001b[0;34m\u001b[0m\u001b[0m\n",
            "\u001b[0;32m<ipython-input-26-fa407db4868c>\u001b[0m in \u001b[0;36mqqplot\u001b[0;34m(data, distribution)\u001b[0m\n\u001b[1;32m     12\u001b[0m         \u001b[0mTheoretical\u001b[0m \u001b[0mdistribution\u001b[0m \u001b[0mto\u001b[0m \u001b[0mcompare\u001b[0m \u001b[0mto\u001b[0m\u001b[0;34m\u001b[0m\u001b[0;34m\u001b[0m\u001b[0m\n\u001b[1;32m     13\u001b[0m     \"\"\"\n\u001b[0;32m---> 14\u001b[0;31m     \u001b[0;32mraise\u001b[0m \u001b[0mNotImplementedError\u001b[0m\u001b[0;34m\u001b[0m\u001b[0;34m\u001b[0m\u001b[0m\n\u001b[0m\u001b[1;32m     15\u001b[0m \u001b[0;34m\u001b[0m\u001b[0m\n\u001b[1;32m     16\u001b[0m \u001b[0;32mdef\u001b[0m \u001b[0mtest_qqplot_sm\u001b[0m\u001b[0;34m(\u001b[0m\u001b[0;34m)\u001b[0m\u001b[0;34m:\u001b[0m\u001b[0;34m\u001b[0m\u001b[0;34m\u001b[0m\u001b[0m\n",
            "\u001b[0;31mNotImplementedError\u001b[0m: "
          ]
        }
      ],
      "source": [
        "def qqplot(data, distribution):\n",
        "    \"\"\"\n",
        "    Generate a qqplot using the quantiles of the data and the theoretical data of the distribution.\n",
        "    Superpose on the plot the line y=x.\n",
        "    \n",
        "    Parameters\n",
        "    ----------\n",
        "    data: np array of shape (100,)\n",
        "        Empirical data\n",
        "    \n",
        "    distribution: distribution from scipy.stats\n",
        "        Theoretical distribution to compare to\n",
        "    \"\"\"\n",
        "    raise NotImplementedError\n",
        "    \n",
        "def test_qqplot_sm():\n",
        "    \"\"\"\n",
        "    Test the plot is the same as in sm.qqplot\n",
        "    \"\"\"\n",
        "    X = np.random.normal(0, 1, size=100)\n",
        "    qqplot(X, scipy.stats.norm)\n",
        "    sm.qqplot(X, line='45')\n",
        "    \n",
        "test_qqplot_sm()"
      ]
    },
    {
      "cell_type": "code",
      "execution_count": null,
      "metadata": {
        "id": "6EVqMY6Pn5uD"
      },
      "outputs": [],
      "source": [
        "raise NotImplementedError\n",
        "# Answer 1."
      ]
    },
    {
      "cell_type": "code",
      "execution_count": null,
      "metadata": {
        "id": "ZTYG9Dhnn5uE"
      },
      "outputs": [],
      "source": [
        "# Answer 2.\n",
        "raise NotImplementedError"
      ]
    },
    {
      "cell_type": "markdown",
      "metadata": {
        "id": "42H_l4tEn5uF"
      },
      "source": [
        "# Generate a simple regression model\n",
        "\n",
        "Given the sample size n and dimension p, generate a dataset (y, X) where y has size n and X has size n times p,\n",
        "such that\n",
        "$y = X \\beta^* + \\beta_0^* + \\epsilon$ where $\\epsilon$ has iid $N(0,\\sigma^2)$ entries, $X$ has iid $N(0,1)$ entries, and $\\beta^*\\in R^p$ has norm equal to the signal strength parameter, and $\\beta_0^*$ is the intercept."
      ]
    },
    {
      "cell_type": "code",
      "execution_count": 32,
      "metadata": {
        "id": "gZc_ejfZn5uG"
      },
      "outputs": [],
      "source": [
        "def linear_regression(X, beta_true, sigma):\n",
        "    \"\"\"\n",
        "    Applies the linear regression model\n",
        "    \n",
        "    Parameters\n",
        "    -----------\n",
        "    \n",
        "    X: np array of shape (n, p)\n",
        "    input features\n",
        "\n",
        "    beta_true: np array of shape (p)\n",
        "    true coefficients\n",
        "    \n",
        "    sigma: float\n",
        "    noise standard deviation \n",
        "\n",
        "    Return\n",
        "    ------\n",
        "    y: np array of shape (n,)\n",
        "    responses generated accroding to the linear regression model\n",
        "    y= X beta_star + eps\n",
        "    \"\"\"\n",
        "    raise np.matmul(X,b_true)+np.random.normal(0, sigma**2, size = (n))\n",
        "\n",
        "def generate_dataset(n, p, sigma=0.7, signal_strength=2):\n",
        "\n",
        "    X = np.random.normal(0, 1, size = (n,p))\n",
        "    b_true = np.random.uniform(0, 1, size = (p))\n",
        "    b_true = (b_true / np.linalg.norm(b_true))*signal_strength\n",
        "    eps = np.random.normal(0, sigma**2, size = (n))\n",
        "    y = np.matmul(X,b_true)+eps\n",
        "\n",
        "    \"\"\"\n",
        "    Generate a data set (with intercept = 0)\n",
        "    Take beta_star uniformly in the sphere of length: signal_strength\n",
        "    Parameters\n",
        "    ----------\n",
        "    n: int\n",
        "        number of samples\n",
        "    p: int\n",
        "        dimension\n",
        "    sigma: float\n",
        "        noise standard deviation\n",
        "    signal_strength: float\n",
        "        norm of the true parameter b_true\n",
        "    \n",
        "    Return\n",
        "    X: np array of shape (n, p)\n",
        "        Features\n",
        "    y: np array of shape (n,)\n",
        "        Target\n",
        "    b_true: np array of shape (p,)\n",
        "    \"\"\"\n",
        "    return X, y, b_true\n",
        "\n",
        "def test_nointercept():\n",
        "    \"\"\"\n",
        "    Check that X.dot(b_true) = y when the noise is 0\n",
        "    \"\"\"\n",
        "    X, y, b_true = generate_dataset(100, 10, sigma=0, signal_strength=1)\n",
        "    np.testing.assert_allclose(X.dot(b_true), y)\n",
        "    \n",
        "test_nointercept()\n",
        "\n",
        "def generate_dataset_with_intercept(n, p, sigma=0.7, signal_strength=2):\n",
        "    \"\"\"\n",
        "    Generate a data set, same as before, but here the returned array X should have\n",
        "    p+1 columns, and the first column contains only 1,1,...,1 to account for\n",
        "    possible intercept.\n",
        "    Parameters\n",
        "    ----------\n",
        "    n: int\n",
        "        number of samples\n",
        "    p: int\n",
        "        dimension\n",
        "    sigma: float\n",
        "        noise standard deviation\n",
        "    signal_strength: float\n",
        "        norm of the true parameter b_true\n",
        "    \n",
        "    Return\n",
        "    X: np array of shape (n, p + 1)\n",
        "        Features, last column contains only ones\n",
        "    y: np array of shape (n,)\n",
        "        Target\n",
        "    b_true: np array of shape (p,)\n",
        "        true coefficients (last one is the intercept)\n",
        "    \"\"\"\n",
        "    X = np.ones((n,p+1))\n",
        "    X[:,:-1] = np.random.normal(0,1,size = (n,p))\n",
        "    b_true = np.ones((p+1))\n",
        "    b_true[:-1] = np.random.uniform(0, 1, size = (p))\n",
        "    b_true[:-1] = (b_true[:-1] / np.linalg.norm(b_true[:-1]))*signal_strength\n",
        "    eps = np.random.normal(0, sigma**2, size = (n))\n",
        "    y = np.matmul(X,b_true)+eps\n",
        "    return X, y, b_true\n",
        "\n",
        "def test_intercept():\n",
        "    \"\"\"\n",
        "    Check that X.dot(b_true) = y when the noise is 0 and intercept = 0\n",
        "    \"\"\"\n",
        "    X, y, b_true = generate_dataset_with_intercept(100, 10, sigma=0, signal_strength=1)\n",
        "    np.testing.assert_allclose(X[:, :-1].dot(b_true[:-1]) + b_true[-1], y)\n",
        "    \n",
        "test_nointercept()\n",
        "test_intercept()"
      ]
    },
    {
      "cell_type": "markdown",
      "metadata": {
        "id": "wQTrTyMpn5uI"
      },
      "source": [
        "# Least-squares\n",
        "\n",
        "Given a design matrix X and response y,\n",
        "implement the least-squares estimate $\\hat\\beta = (X^TX)^\\dagger X^Ty$\n",
        "using several methods:\n",
        "\n",
        "1. using the SVD of X `np.linalg.svd`\n",
        "2. using the pseudo-inverse of X `np.linalg.pinv`\n",
        "3. using the inverse of $X^TX$ if full-rank, and its pseudo-inverse otherwise\n",
        "4. using `scipy.linalg.lstsq`\n",
        "\n",
        "For $p=10, n=20$, generate a dataset using the previous functions and verify that all methods give the correct estimate of $\\beta$ when there is no noise.\n",
        "\n",
        "For $p=10, n=20$, generate a dataset using the previous functions and verify that all methods give the same estimate.\n"
      ]
    },
    {
      "cell_type": "code",
      "execution_count": 69,
      "metadata": {
        "id": "h3O4tMEqn5uJ",
        "outputId": "9831ea38-6253-49d7-fa2d-d8d7038f48b4",
        "colab": {
          "base_uri": "https://localhost:8080/"
        }
      },
      "outputs": [
        {
          "output_type": "stream",
          "name": "stdout",
          "text": [
            "Méthode 1: Le resultat est-il correct?  True\n",
            "Méthode 2: Le resultat est-il correct?  True\n",
            "Méthode 3: Le resultat est-il correct?  True\n",
            "Méthode 4: Le resultat est-il correct?  True\n",
            "Le même β est-il retourné? : True\n"
          ]
        }
      ],
      "source": [
        "def compute_least_squares_using_SVD(X, y):\n",
        "    U, S, Vt = np.linalg.svd(X, full_matrices = False)\n",
        "    VinvSUt = np.matmul(np.matmul(Vt.T, np.diag(1/S)), U.T)\n",
        "    return np.matmul(VinvSUt, y)\n",
        "    \n",
        "def compute_least_squares_using_pseudo_inverse(X, y):\n",
        "    return np.dot(np.linalg.pinv(X), y)\n",
        "    \n",
        "def compute_least_squares_using_method3(X, y):\n",
        "    return np.dot(np.dot(np.linalg.inv(np.dot(X.T, X)), X.T), y)\n",
        "\n",
        "def compute_least_squares_using_scipy(X, y):\n",
        "    return scipy.linalg.lstsq(X, y)[0]\n",
        "    \n",
        "def test_lsqr():\n",
        "    n = 20\n",
        "    p = 10\n",
        "    X, y, b_true = generate_dataset_with_intercept(n, p, sigma=0, signal_strength=2)\n",
        "\n",
        "    b_hat = compute_least_squares_using_SVD(X, y)\n",
        "    print(\"Méthode 1: Le resultat est-il correct? \", np.min(np.isclose(b_true, b_hat)))\n",
        "\n",
        "    b_hat = compute_least_squares_using_pseudo_inverse(X, y)\n",
        "    print(\"Méthode 2: Le resultat est-il correct? \", np.min(np.isclose(b_true, b_hat)))\n",
        "\n",
        "    b_hat = compute_least_squares_using_method3(X, y)\n",
        "    print(\"Méthode 3: Le resultat est-il correct? \", np.min(np.isclose(b_true, b_hat)))\n",
        "\n",
        "    b_hat = compute_least_squares_using_scipy(X, y)\n",
        "    print(\"Méthode 4: Le resultat est-il correct? \", np.min(np.isclose(b_true, b_hat)))\n",
        "    \n",
        "    \"\"\"Test that all methods yield the correct beta when there is no noise\n",
        "    \"\"\"\n",
        "    \n",
        "\n",
        "def test_same_estimate():\n",
        "    \"\"\" Test that all methods yield the same estimate of beta\n",
        "    \"\"\"\n",
        "\n",
        "    flag = True \n",
        "    n = 20\n",
        "    p = 10\n",
        "    X, y, b_true = generate_dataset_with_intercept(n, p, sigma=0, signal_strength=2)\n",
        "\n",
        "    b_hat1 = compute_least_squares_using_SVD(X, y)\n",
        "    b_hat2 = compute_least_squares_using_pseudo_inverse(X, y)\n",
        "    b_hat3 = compute_least_squares_using_method3(X, y)\n",
        "    b_hat4 = compute_least_squares_using_scipy(X, y)\n",
        "\n",
        "    flag = np.min(np.isclose(b_hat1, b_hat2))\n",
        "    flag = np.min(np.isclose(b_hat1, b_hat3))\n",
        "    flag = np.min(np.isclose(b_hat1, b_hat4))\n",
        "\n",
        "    print(\"Le même β est-il retourné? :\", flag)\n",
        "\n",
        "        \n",
        "test_lsqr()\n",
        "test_same_estimate()"
      ]
    },
    {
      "cell_type": "markdown",
      "metadata": {
        "id": "6wT-6tVZn5uK"
      },
      "source": [
        "# The distribution of the MLE, the residuals, and the loss\n",
        "\n",
        "By computing 100 independent datasets with $p=10, n=30$, verify with histograms and\n",
        "QQ-plots that the squared norm $\\|y-X\\hat\\beta\\|^2/\\sigma^2$ has chi square distribution, and recall its degrees of freedom."
      ]
    },
    {
      "cell_type": "code",
      "execution_count": 90,
      "metadata": {
        "id": "tDAdgh5Hn5uL",
        "outputId": "f185796d-f316-4c04-a488-7d857ebec754",
        "colab": {
          "base_uri": "https://localhost:8080/",
          "height": 265
        }
      },
      "outputs": [
        {
          "output_type": "display_data",
          "data": {
            "text/plain": [
              "<Figure size 432x288 with 1 Axes>"
            ],
            "image/png": "[encoded data removed]"
          },
          "metadata": {
            "needs_background": "light"
          }
        }
      ],
      "source": [
        "def error_residual_plot():\n",
        "    p = 10\n",
        "    n = 30\n",
        "    sigma=0.7\n",
        "    data = list()\n",
        "    for i in range(1000):\n",
        "      X, y, b_true = generate_dataset_with_intercept(n, p, sigma, signal_strength=2)\n",
        "      b_hat = compute_least_squares_using_SVD(X, y)\n",
        "      data.append(np.linalg.norm(y - np.dot(X, b_hat))**2 / sigma**2)\n",
        "    plt.hist(data, 20, color = \"red\", width=0.8, align='mid')\n",
        "    \n",
        "error_residual_plot()\n"
      ]
    },
    {
      "cell_type": "markdown",
      "metadata": {
        "id": "kKCs8TcNn5uM"
      },
      "source": [
        "# The curve of the risk of the MLE in high dimension\n",
        "\n",
        "1. Fix $n=200$, noise level $\\sigma^2=0.7$, signal strength $2$, and a grid of values for $p/n$, say $0.1, 0.2, 0.3, 0.4, ..., 2.9, 3.0$. For each for of $n, p$, generate $10$ independent datasets and plot the boxplots corresponding the squared error $\\|\\hat\\beta - \\beta^*\\|^2$ for each given ratio $p/n$. If $p>n$, make sure that $\\hat\\beta$ is the solution $(X^TX)^\\dagger X^Ty$. Plot the corresponding theoretical curves for the expected squared error found using the formula for expected inverse Wishart matrices.\n",
        "\n",
        "2. Bonus: Plot also the boxplots for the the bias and variance of the squared error. "
      ]
    },
    {
      "cell_type": "code",
      "execution_count": 100,
      "metadata": {
        "id": "f2_Viox5n5uN",
        "outputId": "83121dff-9725-47a7-9cc8-c3caf096515d",
        "colab": {
          "base_uri": "https://localhost:8080/",
          "height": 1000
        }
      },
      "outputs": [
        {
          "output_type": "stream",
          "name": "stderr",
          "text": [
            "/usr/local/lib/python3.7/dist-packages/matplotlib/cbook/__init__.py:1376: VisibleDeprecationWarning: Creating an ndarray from ragged nested sequences (which is a list-or-tuple of lists-or-tuples-or ndarrays with different lengths or shapes) is deprecated. If you meant to do this, you must specify 'dtype=object' when creating the ndarray.\n",
            "  X = np.atleast_1d(X.T if isinstance(X, np.ndarray) else np.asarray(X))\n"
          ]
        },
        {
          "output_type": "execute_result",
          "data": {
            "text/plain": [
              "{'boxes': [<matplotlib.lines.Line2D at 0x7f01f32e5310>,\n",
              "  <matplotlib.lines.Line2D at 0x7f01f3380110>,\n",
              "  <matplotlib.lines.Line2D at 0x7f01f3583610>,\n",
              "  <matplotlib.lines.Line2D at 0x7f01f3593b90>,\n",
              "  <matplotlib.lines.Line2D at 0x7f01f367c050>,\n",
              "  <matplotlib.lines.Line2D at 0x7f01f36845d0>,\n",
              "  <matplotlib.lines.Line2D at 0x7f01f34b3b50>,\n",
              "  <matplotlib.lines.Line2D at 0x7f01f347c0d0>,\n",
              "  <matplotlib.lines.Line2D at 0x7f01f37a2590>,\n",
              "  <matplotlib.lines.Line2D at 0x7f01f379fa10>,\n",
              "  <matplotlib.lines.Line2D at 0x7f01f3859f50>,\n",
              "  <matplotlib.lines.Line2D at 0x7f01f384c4d0>,\n",
              "  <matplotlib.lines.Line2D at 0x7f01f375ba50>,\n",
              "  <matplotlib.lines.Line2D at 0x7f01f3737f50>,\n",
              "  <matplotlib.lines.Line2D at 0x7f01f371d4d0>,\n",
              "  <matplotlib.lines.Line2D at 0x7f01f372ba10>,\n",
              "  <matplotlib.lines.Line2D at 0x7f01f3725f50>,\n",
              "  <matplotlib.lines.Line2D at 0x7f01f35bc4d0>,\n",
              "  <matplotlib.lines.Line2D at 0x7f01f35c3a10>,\n",
              "  <matplotlib.lines.Line2D at 0x7f01f332af50>,\n",
              "  <matplotlib.lines.Line2D at 0x7f01f32f74d0>,\n",
              "  <matplotlib.lines.Line2D at 0x7f01f31f8a50>,\n",
              "  <matplotlib.lines.Line2D at 0x7f01f321ef50>,\n",
              "  <matplotlib.lines.Line2D at 0x7f01f36134d0>,\n",
              "  <matplotlib.lines.Line2D at 0x7f01f35f8a10>,\n",
              "  <matplotlib.lines.Line2D at 0x7f01f35fcf50>,\n",
              "  <matplotlib.lines.Line2D at 0x7f01f34db4d0>,\n",
              "  <matplotlib.lines.Line2D at 0x7f01f34c8a10>,\n",
              "  <matplotlib.lines.Line2D at 0x7f01f365ef90>,\n",
              "  <matplotlib.lines.Line2D at 0x7f01f36444d0>],\n",
              " 'caps': [<matplotlib.lines.Line2D at 0x7f01f339bb50>,\n",
              "  <matplotlib.lines.Line2D at 0x7f01f33780d0>,\n",
              "  <matplotlib.lines.Line2D at 0x7f01f35980d0>,\n",
              "  <matplotlib.lines.Line2D at 0x7f01f3598610>,\n",
              "  <matplotlib.lines.Line2D at 0x7f01f35947d0>,\n",
              "  <matplotlib.lines.Line2D at 0x7f01f3594cd0>,\n",
              "  <matplotlib.lines.Line2D at 0x7f01f357fb90>,\n",
              "  <matplotlib.lines.Line2D at 0x7f01f357ffd0>,\n",
              "  <matplotlib.lines.Line2D at 0x7f01f36b4050>,\n",
              "  <matplotlib.lines.Line2D at 0x7f01f36b4550>,\n",
              "  <matplotlib.lines.Line2D at 0x7f01f34aa5d0>,\n",
              "  <matplotlib.lines.Line2D at 0x7f01f34aab10>,\n",
              "  <matplotlib.lines.Line2D at 0x7f01f34a0b10>,\n",
              "  <matplotlib.lines.Line2D at 0x7f01f34ae090>,\n",
              "  <matplotlib.lines.Line2D at 0x7f01f37b2090>,\n",
              "  <matplotlib.lines.Line2D at 0x7f01f37b25d0>,\n",
              "  <matplotlib.lines.Line2D at 0x7f01f37b5550>,\n",
              "  <matplotlib.lines.Line2D at 0x7f01f37b5a90>,\n",
              "  <matplotlib.lines.Line2D at 0x7f01f383e290>,\n",
              "  <matplotlib.lines.Line2D at 0x7f01f383e850>,\n",
              "  <matplotlib.lines.Line2D at 0x7f01f3842f50>,\n",
              "  <matplotlib.lines.Line2D at 0x7f01f385d4d0>,\n",
              "  <matplotlib.lines.Line2D at 0x7f01f375f4d0>,\n",
              "  <matplotlib.lines.Line2D at 0x7f01f375fa10>,\n",
              "  <matplotlib.lines.Line2D at 0x7f01f3766a10>,\n",
              "  <matplotlib.lines.Line2D at 0x7f01f3766f50>,\n",
              "  <matplotlib.lines.Line2D at 0x7f01f3769f50>,\n",
              "  <matplotlib.lines.Line2D at 0x7f01f376ff90>,\n",
              "  <matplotlib.lines.Line2D at 0x7f01f37264d0>,\n",
              "  <matplotlib.lines.Line2D at 0x7f01f3726a10>,\n",
              "  <matplotlib.lines.Line2D at 0x7f01f370ea10>,\n",
              "  <matplotlib.lines.Line2D at 0x7f01f370ef50>,\n",
              "  <matplotlib.lines.Line2D at 0x7f01f35d8f50>,\n",
              "  <matplotlib.lines.Line2D at 0x7f01f35be4d0>,\n",
              "  <matplotlib.lines.Line2D at 0x7f01f35b74d0>,\n",
              "  <matplotlib.lines.Line2D at 0x7f01f35b7a10>,\n",
              "  <matplotlib.lines.Line2D at 0x7f01f3315a10>,\n",
              "  <matplotlib.lines.Line2D at 0x7f01f3315f50>,\n",
              "  <matplotlib.lines.Line2D at 0x7f01f3320f50>,\n",
              "  <matplotlib.lines.Line2D at 0x7f01f32fa4d0>,\n",
              "  <matplotlib.lines.Line2D at 0x7f01f331d4d0>,\n",
              "  <matplotlib.lines.Line2D at 0x7f01f331da10>,\n",
              "  <matplotlib.lines.Line2D at 0x7f01f320aa10>,\n",
              "  <matplotlib.lines.Line2D at 0x7f01f320af50>,\n",
              "  <matplotlib.lines.Line2D at 0x7f01f3226f50>,\n",
              "  <matplotlib.lines.Line2D at 0x7f01f322f4d0>,\n",
              "  <matplotlib.lines.Line2D at 0x7f01f36094d0>,\n",
              "  <matplotlib.lines.Line2D at 0x7f01f3609a10>,\n",
              "  <matplotlib.lines.Line2D at 0x7f01f35fba10>,\n",
              "  <matplotlib.lines.Line2D at 0x7f01f35fbf50>,\n",
              "  <matplotlib.lines.Line2D at 0x7f01f35faf50>,\n",
              "  <matplotlib.lines.Line2D at 0x7f01f34be4d0>,\n",
              "  <matplotlib.lines.Line2D at 0x7f01f34cc4d0>,\n",
              "  <matplotlib.lines.Line2D at 0x7f01f34cca10>,\n",
              "  <matplotlib.lines.Line2D at 0x7f01f34c1a10>,\n",
              "  <matplotlib.lines.Line2D at 0x7f01f34c1f50>,\n",
              "  <matplotlib.lines.Line2D at 0x7f01f36439d0>,\n",
              "  <matplotlib.lines.Line2D at 0x7f01f36524d0>,\n",
              "  <matplotlib.lines.Line2D at 0x7f01f36624d0>,\n",
              "  <matplotlib.lines.Line2D at 0x7f01f3662a10>],\n",
              " 'fliers': [<matplotlib.lines.Line2D at 0x7f01f3378b90>,\n",
              "  <matplotlib.lines.Line2D at 0x7f01f35830d0>,\n",
              "  <matplotlib.lines.Line2D at 0x7f01f35935d0>,\n",
              "  <matplotlib.lines.Line2D at 0x7f01f36a4a10>,\n",
              "  <matplotlib.lines.Line2D at 0x7f01f3684050>,\n",
              "  <matplotlib.lines.Line2D at 0x7f01f34b35d0>,\n",
              "  <matplotlib.lines.Line2D at 0x7f01f34aeb10>,\n",
              "  <matplotlib.lines.Line2D at 0x7f01f37a2090>,\n",
              "  <matplotlib.lines.Line2D at 0x7f01f379f510>,\n",
              "  <matplotlib.lines.Line2D at 0x7f01f3859a10>,\n",
              "  <matplotlib.lines.Line2D at 0x7f01f385df50>,\n",
              "  <matplotlib.lines.Line2D at 0x7f01f375b4d0>,\n",
              "  <matplotlib.lines.Line2D at 0x7f01f3737a10>,\n",
              "  <matplotlib.lines.Line2D at 0x7f01f376fa10>,\n",
              "  <matplotlib.lines.Line2D at 0x7f01f372b4d0>,\n",
              "  <matplotlib.lines.Line2D at 0x7f01f3725a10>,\n",
              "  <matplotlib.lines.Line2D at 0x7f01f35bef50>,\n",
              "  <matplotlib.lines.Line2D at 0x7f01f35c34d0>,\n",
              "  <matplotlib.lines.Line2D at 0x7f01f332aa10>,\n",
              "  <matplotlib.lines.Line2D at 0x7f01f32faf50>,\n",
              "  <matplotlib.lines.Line2D at 0x7f01f31f84d0>,\n",
              "  <matplotlib.lines.Line2D at 0x7f01f321ea10>,\n",
              "  <matplotlib.lines.Line2D at 0x7f01f322ff50>,\n",
              "  <matplotlib.lines.Line2D at 0x7f01f35f84d0>,\n",
              "  <matplotlib.lines.Line2D at 0x7f01f35fca10>,\n",
              "  <matplotlib.lines.Line2D at 0x7f01f34bef50>,\n",
              "  <matplotlib.lines.Line2D at 0x7f01f34c84d0>,\n",
              "  <matplotlib.lines.Line2D at 0x7f01f365ea10>,\n",
              "  <matplotlib.lines.Line2D at 0x7f01f3652f50>,\n",
              "  <matplotlib.lines.Line2D at 0x7f01f36594d0>],\n",
              " 'means': [],\n",
              " 'medians': [<matplotlib.lines.Line2D at 0x7f01f3378650>,\n",
              "  <matplotlib.lines.Line2D at 0x7f01f3598b50>,\n",
              "  <matplotlib.lines.Line2D at 0x7f01f3593110>,\n",
              "  <matplotlib.lines.Line2D at 0x7f01f36a4f10>,\n",
              "  <matplotlib.lines.Line2D at 0x7f01f36b4a90>,\n",
              "  <matplotlib.lines.Line2D at 0x7f01f34b3090>,\n",
              "  <matplotlib.lines.Line2D at 0x7f01f34ae5d0>,\n",
              "  <matplotlib.lines.Line2D at 0x7f01f37b2b10>,\n",
              "  <matplotlib.lines.Line2D at 0x7f01f37b5fd0>,\n",
              "  <matplotlib.lines.Line2D at 0x7f01f38594d0>,\n",
              "  <matplotlib.lines.Line2D at 0x7f01f385da10>,\n",
              "  <matplotlib.lines.Line2D at 0x7f01f375ff50>,\n",
              "  <matplotlib.lines.Line2D at 0x7f01f37374d0>,\n",
              "  <matplotlib.lines.Line2D at 0x7f01f376f5d0>,\n",
              "  <matplotlib.lines.Line2D at 0x7f01f3726f50>,\n",
              "  <matplotlib.lines.Line2D at 0x7f01f37254d0>,\n",
              "  <matplotlib.lines.Line2D at 0x7f01f35bea10>,\n",
              "  <matplotlib.lines.Line2D at 0x7f01f35b7f50>,\n",
              "  <matplotlib.lines.Line2D at 0x7f01f332a4d0>,\n",
              "  <matplotlib.lines.Line2D at 0x7f01f32faa10>,\n",
              "  <matplotlib.lines.Line2D at 0x7f01f331df50>,\n",
              "  <matplotlib.lines.Line2D at 0x7f01f321e4d0>,\n",
              "  <matplotlib.lines.Line2D at 0x7f01f322fa10>,\n",
              "  <matplotlib.lines.Line2D at 0x7f01f3609f50>,\n",
              "  <matplotlib.lines.Line2D at 0x7f01f35fc4d0>,\n",
              "  <matplotlib.lines.Line2D at 0x7f01f34bea10>,\n",
              "  <matplotlib.lines.Line2D at 0x7f01f34ccf50>,\n",
              "  <matplotlib.lines.Line2D at 0x7f01f365e4d0>,\n",
              "  <matplotlib.lines.Line2D at 0x7f01f3652a10>,\n",
              "  <matplotlib.lines.Line2D at 0x7f01f3662f50>],\n",
              " 'whiskers': [<matplotlib.lines.Line2D at 0x7f01f32f4bd0>,\n",
              "  <matplotlib.lines.Line2D at 0x7f01f339b610>,\n",
              "  <matplotlib.lines.Line2D at 0x7f01f3380650>,\n",
              "  <matplotlib.lines.Line2D at 0x7f01f3380b50>,\n",
              "  <matplotlib.lines.Line2D at 0x7f01f3583b50>,\n",
              "  <matplotlib.lines.Line2D at 0x7f01f3594110>,\n",
              "  <matplotlib.lines.Line2D at 0x7f01f357f110>,\n",
              "  <matplotlib.lines.Line2D at 0x7f01f357f650>,\n",
              "  <matplotlib.lines.Line2D at 0x7f01f367c5d0>,\n",
              "  <matplotlib.lines.Line2D at 0x7f01f367cad0>,\n",
              "  <matplotlib.lines.Line2D at 0x7f01f3684b10>,\n",
              "  <matplotlib.lines.Line2D at 0x7f01f34aa090>,\n",
              "  <matplotlib.lines.Line2D at 0x7f01f34a0090>,\n",
              "  <matplotlib.lines.Line2D at 0x7f01f34a05d0>,\n",
              "  <matplotlib.lines.Line2D at 0x7f01f347c5d0>,\n",
              "  <matplotlib.lines.Line2D at 0x7f01f347cb10>,\n",
              "  <matplotlib.lines.Line2D at 0x7f01f37a2a90>,\n",
              "  <matplotlib.lines.Line2D at 0x7f01f37a2fd0>,\n",
              "  <matplotlib.lines.Line2D at 0x7f01f379ff50>,\n",
              "  <matplotlib.lines.Line2D at 0x7f01f383e550>,\n",
              "  <matplotlib.lines.Line2D at 0x7f01f38424d0>,\n",
              "  <matplotlib.lines.Line2D at 0x7f01f3842a10>,\n",
              "  <matplotlib.lines.Line2D at 0x7f01f384ca10>,\n",
              "  <matplotlib.lines.Line2D at 0x7f01f384cf50>,\n",
              "  <matplotlib.lines.Line2D at 0x7f01f375bf50>,\n",
              "  <matplotlib.lines.Line2D at 0x7f01f37664d0>,\n",
              "  <matplotlib.lines.Line2D at 0x7f01f37694d0>,\n",
              "  <matplotlib.lines.Line2D at 0x7f01f3769a10>,\n",
              "  <matplotlib.lines.Line2D at 0x7f01f371da10>,\n",
              "  <matplotlib.lines.Line2D at 0x7f01f371df50>,\n",
              "  <matplotlib.lines.Line2D at 0x7f01f372bf50>,\n",
              "  <matplotlib.lines.Line2D at 0x7f01f370e4d0>,\n",
              "  <matplotlib.lines.Line2D at 0x7f01f35d84d0>,\n",
              "  <matplotlib.lines.Line2D at 0x7f01f35d8a10>,\n",
              "  <matplotlib.lines.Line2D at 0x7f01f35bca10>,\n",
              "  <matplotlib.lines.Line2D at 0x7f01f35bcf50>,\n",
              "  <matplotlib.lines.Line2D at 0x7f01f35c3f50>,\n",
              "  <matplotlib.lines.Line2D at 0x7f01f33154d0>,\n",
              "  <matplotlib.lines.Line2D at 0x7f01f33204d0>,\n",
              "  <matplotlib.lines.Line2D at 0x7f01f3320a10>,\n",
              "  <matplotlib.lines.Line2D at 0x7f01f32f7a10>,\n",
              "  <matplotlib.lines.Line2D at 0x7f01f32f7f50>,\n",
              "  <matplotlib.lines.Line2D at 0x7f01f31f8f50>,\n",
              "  <matplotlib.lines.Line2D at 0x7f01f320a4d0>,\n",
              "  <matplotlib.lines.Line2D at 0x7f01f32264d0>,\n",
              "  <matplotlib.lines.Line2D at 0x7f01f3226a10>,\n",
              "  <matplotlib.lines.Line2D at 0x7f01f3613a10>,\n",
              "  <matplotlib.lines.Line2D at 0x7f01f3613f50>,\n",
              "  <matplotlib.lines.Line2D at 0x7f01f35f8f50>,\n",
              "  <matplotlib.lines.Line2D at 0x7f01f35fb4d0>,\n",
              "  <matplotlib.lines.Line2D at 0x7f01f35fa4d0>,\n",
              "  <matplotlib.lines.Line2D at 0x7f01f35faa10>,\n",
              "  <matplotlib.lines.Line2D at 0x7f01f34dba10>,\n",
              "  <matplotlib.lines.Line2D at 0x7f01f34dbf50>,\n",
              "  <matplotlib.lines.Line2D at 0x7f01f34c8f50>,\n",
              "  <matplotlib.lines.Line2D at 0x7f01f34c14d0>,\n",
              "  <matplotlib.lines.Line2D at 0x7f01f3643050>,\n",
              "  <matplotlib.lines.Line2D at 0x7f01f3643cd0>,\n",
              "  <matplotlib.lines.Line2D at 0x7f01f3644a10>,\n",
              "  <matplotlib.lines.Line2D at 0x7f01f3644f50>]}"
            ]
          },
          "metadata": {},
          "execution_count": 100
        },
        {
          "output_type": "display_data",
          "data": {
            "text/plain": [
              "<Figure size 432x288 with 1 Axes>"
            ],
            "image/png": "[encoded data removed]"
          },
          "metadata": {
            "needs_background": "light"
          }
        }
      ],
      "source": [
        "# Question 1\n",
        "n = 200\n",
        "sigma = m.sqrt(0.7)\n",
        "signal_strength = 2\n",
        "p_values = [int(0.1*i*n) for i in range(1,31)]\n",
        "data = [list() for p in p_values]\n",
        "\n",
        "for k in range(len(p_values)):\n",
        "  for i in range(10):\n",
        "    if (p_values[k]/n == 1):\n",
        "      continue\n",
        "    X, y, b_true = generate_dataset_with_intercept(n, p_values[k], sigma**2, signal_strength)\n",
        "    b_hat = compute_least_squares_using_SVD(X, y)\n",
        "    data[k].append(np.linalg.norm(b_hat - b_true)**2)\n",
        "plt.boxplot(data)\n",
        "# Question 2\n"
      ]
    },
    {
      "cell_type": "code",
      "execution_count": null,
      "metadata": {
        "id": "putpCxQEn5uO"
      },
      "outputs": [],
      "source": [
        ""
      ]
    }
  ],
  "metadata": {
    "kernelspec": {
      "display_name": "Python 3 (ipykernel)",
      "language": "python",
      "name": "python3"
    },
    "language_info": {
      "codemirror_mode": {
        "name": "ipython",
        "version": 3
      },
      "file_extension": ".py",
      "mimetype": "text/x-python",
      "name": "python",
      "nbconvert_exporter": "python",
      "pygments_lexer": "ipython3",
      "version": "3.8.10"
    },
    "colab": {
      "name": "TP1 Numpy and Maximum Likelihood in linear regression.ipynb",
      "provenance": []
    }
  },
  "nbformat": 4,
  "nbformat_minor": 0
}
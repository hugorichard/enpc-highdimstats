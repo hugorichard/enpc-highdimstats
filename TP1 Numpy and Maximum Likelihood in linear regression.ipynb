{
 "cells": [
  {
   "cell_type": "code",
   "execution_count": 1,
   "metadata": {
    "colab": {
     "base_uri": "https://localhost:8080/"
    },
    "executionInfo": {
     "elapsed": 3035,
     "status": "ok",
     "timestamp": 1649632003248,
     "user": {
      "displayName": "Theilo T",
      "userId": "15692770589730500183"
     },
     "user_tz": -120
    },
    "id": "q8op9bAAuoSS",
    "outputId": "8cb3d7d0-dad1-45b9-e69b-b57e5c0e4589"
   },
   "outputs": [],
   "source": [
    "import numpy as np\n",
    "import matplotlib.pyplot as plt\n",
    "import statsmodels.api as sm\n",
    "import scipy"
   ]
  },
  {
   "cell_type": "markdown",
   "metadata": {
    "id": "JvIntZyNuoSV"
   },
   "source": [
    "# Random numbers\n",
    "\n",
    "Numpy let you generate random numbers. Using the random number generators given as examples, implement the functions below."
   ]
  },
  {
   "cell_type": "code",
   "execution_count": 2,
   "metadata": {
    "colab": {
     "base_uri": "https://localhost:8080/"
    },
    "executionInfo": {
     "elapsed": 262,
     "status": "ok",
     "timestamp": 1649632034797,
     "user": {
      "displayName": "Theilo T",
      "userId": "15692770589730500183"
     },
     "user_tz": -120
    },
    "id": "Zz0LEnUbuoSW",
    "outputId": "3353ab7d-adbb-41aa-b9ce-97ac052278cd"
   },
   "outputs": [
    {
     "data": {
      "text/plain": [
       "1.7966039482468446"
      ]
     },
     "execution_count": 2,
     "metadata": {},
     "output_type": "execute_result"
    }
   ],
   "source": [
    "np.random.normal()"
   ]
  },
  {
   "cell_type": "code",
   "execution_count": 3,
   "metadata": {
    "colab": {
     "base_uri": "https://localhost:8080/"
    },
    "executionInfo": {
     "elapsed": 4,
     "status": "ok",
     "timestamp": 1649632035071,
     "user": {
      "displayName": "Theilo T",
      "userId": "15692770589730500183"
     },
     "user_tz": -120
    },
    "id": "3_5rhccfuoSX",
    "outputId": "fd03a9a5-e0da-4c89-f2dc-096fe5b04fa2"
   },
   "outputs": [
    {
     "data": {
      "text/plain": [
       "array([ 7.01817126,  9.935303  , 12.67430842])"
      ]
     },
     "execution_count": 3,
     "metadata": {},
     "output_type": "execute_result"
    }
   ],
   "source": [
    "mu = 10\n",
    "variance = 2\n",
    "np.random.normal(mu, variance, size=(3, ))"
   ]
  },
  {
   "cell_type": "code",
   "execution_count": 4,
   "metadata": {
    "colab": {
     "base_uri": "https://localhost:8080/"
    },
    "executionInfo": {
     "elapsed": 5,
     "status": "ok",
     "timestamp": 1649632035348,
     "user": {
      "displayName": "Theilo T",
      "userId": "15692770589730500183"
     },
     "user_tz": -120
    },
    "id": "X8sGIv05uoSY",
    "outputId": "696f573d-6127-4b91-a243-6e08ce46c8e4"
   },
   "outputs": [
    {
     "data": {
      "text/plain": [
       "(8, 1)"
      ]
     },
     "execution_count": 4,
     "metadata": {},
     "output_type": "execute_result"
    }
   ],
   "source": [
    "p = 0.8\n",
    "n = 10\n",
    "np.random.binomial(n, p), np.random.binomial(1, p) # Binomial(n,p), Bernoulli(p)"
   ]
  },
  {
   "cell_type": "code",
   "execution_count": 5,
   "metadata": {
    "colab": {
     "base_uri": "https://localhost:8080/"
    },
    "executionInfo": {
     "elapsed": 3,
     "status": "ok",
     "timestamp": 1649632035592,
     "user": {
      "displayName": "Theilo T",
      "userId": "15692770589730500183"
     },
     "user_tz": -120
    },
    "id": "H4PScckeuoSY",
    "outputId": "da4efc48-e2c4-4a43-d37f-54929ba21e38"
   },
   "outputs": [
    {
     "data": {
      "text/plain": [
       "array([1, 1, 0, 0, 1])"
      ]
     },
     "execution_count": 5,
     "metadata": {},
     "output_type": "execute_result"
    }
   ],
   "source": [
    "np.random.binomial(1, p, size=(5, ))"
   ]
  },
  {
   "cell_type": "code",
   "execution_count": 6,
   "metadata": {
    "colab": {
     "base_uri": "https://localhost:8080/"
    },
    "executionInfo": {
     "elapsed": 4,
     "status": "ok",
     "timestamp": 1649632035828,
     "user": {
      "displayName": "Theilo T",
      "userId": "15692770589730500183"
     },
     "user_tz": -120
    },
    "id": "iwhp7SDTuoSZ",
    "outputId": "b4e93e6f-8298-4c4e-cb0b-2cf50365be84"
   },
   "outputs": [
    {
     "data": {
      "text/plain": [
       "array([[2.60939421, 2.60939421],\n",
       "       [1.25249473, 1.25249472],\n",
       "       [0.04802247, 0.04802247]])"
      ]
     },
     "execution_count": 6,
     "metadata": {},
     "output_type": "execute_result"
    }
   ],
   "source": [
    "np.random.c(np.array([1, 1]), np.array([[1, 1], [1, 1]]), size=3)"
   ]
  },
  {
   "cell_type": "code",
   "execution_count": 7,
   "metadata": {
    "colab": {
     "base_uri": "https://localhost:8080/"
    },
    "executionInfo": {
     "elapsed": 4,
     "status": "ok",
     "timestamp": 1649632036155,
     "user": {
      "displayName": "Theilo T",
      "userId": "15692770589730500183"
     },
     "user_tz": -120
    },
    "id": "8kSEf7xGuoSa",
    "outputId": "262511e1-c8c3-43b0-856e-762677a2fa19"
   },
   "outputs": [
    {
     "data": {
      "text/plain": [
       "array([[[6.49393329, 0.38411313, 3.57941562],\n",
       "        [0.38411313, 4.63576442, 0.96173015],\n",
       "        [3.57941562, 0.96173015, 5.22146399]]])"
      ]
     },
     "execution_count": 7,
     "metadata": {},
     "output_type": "execute_result"
    }
   ],
   "source": [
    "from scipy import linalg\n",
    "\n",
    "def generate_wishart(n, covariance, k=1):\n",
    "    \"\"\"\n",
    "    Return k Wishart matrices with degrees of freedom n\n",
    "    and given covariance.\n",
    "    \n",
    "    Parameters\n",
    "    ----------\n",
    "    n: int\n",
    "        degrees of freedom\n",
    "    covariance: np array of shape (p, p)\n",
    "        covariance matrix\n",
    "    k: int or None (optional)\n",
    "        number of wishart matrices to return\n",
    "    \n",
    "    Return\n",
    "    ------\n",
    "    W: np array of shape (k, p, p)\n",
    "        k Wishart matrices\n",
    "    \"\"\"\n",
    "    wisharts = []\n",
    "    for _ in range(k):\n",
    "        Y = np.random.multivariate_normal(np.zeros(covariance.shape[0]), covariance, size=n)\n",
    "        wisharts.append(np.matmul(Y.T, Y))\n",
    "    return np.array(wisharts)\n",
    "    \n",
    "generate_wishart(5, np.eye(3))"
   ]
  },
  {
   "cell_type": "code",
   "execution_count": 8,
   "metadata": {
    "colab": {
     "base_uri": "https://localhost:8080/"
    },
    "executionInfo": {
     "elapsed": 4,
     "status": "ok",
     "timestamp": 1649632036668,
     "user": {
      "displayName": "Theilo T",
      "userId": "15692770589730500183"
     },
     "user_tz": -120
    },
    "id": "ZSLEbXB_uoSb",
    "outputId": "5f6fd9bf-43c0-4a4c-e874-4cb22acba7d3"
   },
   "outputs": [
    {
     "data": {
      "text/plain": [
       "2"
      ]
     },
     "execution_count": 8,
     "metadata": {},
     "output_type": "execute_result"
    }
   ],
   "source": [
    "np.random.choice(6) + 1 # roll a die"
   ]
  },
  {
   "cell_type": "code",
   "execution_count": 9,
   "metadata": {
    "colab": {
     "base_uri": "https://localhost:8080/"
    },
    "executionInfo": {
     "elapsed": 5,
     "status": "ok",
     "timestamp": 1649632037327,
     "user": {
      "displayName": "Theilo T",
      "userId": "15692770589730500183"
     },
     "user_tz": -120
    },
    "id": "fxksRN6-uoSb",
    "outputId": "9442bf27-c16d-470a-8e8c-4493c9573ba2"
   },
   "outputs": [
    {
     "data": {
      "text/plain": [
       "array([5, 2, 6, 4, 4, 3, 4, 5, 2, 1])"
      ]
     },
     "execution_count": 9,
     "metadata": {},
     "output_type": "execute_result"
    }
   ],
   "source": [
    "1 + np.random.choice(6, p =[1/6, 1/6, 1/6, 1/6, 1/6, 1/6], size=(10, ))  # roll a die 10 times"
   ]
  },
  {
   "cell_type": "code",
   "execution_count": 10,
   "metadata": {
    "colab": {
     "base_uri": "https://localhost:8080/"
    },
    "executionInfo": {
     "elapsed": 8,
     "status": "ok",
     "timestamp": 1649632037982,
     "user": {
      "displayName": "Theilo T",
      "userId": "15692770589730500183"
     },
     "user_tz": -120
    },
    "id": "Eap0O3NhuoSc",
    "outputId": "19b7727b-32c7-430f-916f-d2ae452d3ad1"
   },
   "outputs": [
    {
     "data": {
      "text/plain": [
       "array([2, 6, 6, 6, 4, 5, 2, 6, 2, 5])"
      ]
     },
     "execution_count": 10,
     "metadata": {},
     "output_type": "execute_result"
    }
   ],
   "source": [
    "# roll a biased die 10 times\n",
    "1 + np.random.choice(6, p =[1/10, 1/10, 1/10, 1/10, 1/10, 1/2], size=(10, )) "
   ]
  },
  {
   "cell_type": "code",
   "execution_count": 11,
   "metadata": {
    "colab": {
     "base_uri": "https://localhost:8080/",
     "height": 513
    },
    "executionInfo": {
     "elapsed": 690,
     "status": "ok",
     "timestamp": 1649632534138,
     "user": {
      "displayName": "Theilo T",
      "userId": "15692770589730500183"
     },
     "user_tz": -120
    },
    "id": "5U3jk6qpuoSc",
    "outputId": "fe45a668-0f48-44ea-8718-86e8d3358ff4"
   },
   "outputs": [
    {
     "data": {
      "image/png": "[encoded data removed]",
      "text/plain": [
       "<Figure size 432x288 with 1 Axes>"
      ]
     },
     "metadata": {
      "needs_background": "light"
     },
     "output_type": "display_data"
    },
    {
     "data": {
      "image/png": "[encoded data removed]",
      "text/plain": [
       "<Figure size 432x288 with 1 Axes>"
      ]
     },
     "metadata": {
      "needs_background": "light"
     },
     "output_type": "display_data"
    }
   ],
   "source": [
    "def biased_die_histogram(p, k):\n",
    "    \"\"\"\n",
    "    Draw a biased die with probabilities p, k times, and plot the resulting histograms.\n",
    "    There should be six bars.\n",
    "    \n",
    "    Parameters\n",
    "    ----------\n",
    "    p : np array of shape (6,)\n",
    "        The probabilities associated with each outcome of the dice.\n",
    "    k: int\n",
    "        Number of rolls\n",
    "    \"\"\"\n",
    "    hist = plt.hist(1+np.random.choice(6, p=p, size=k), bins=np.arange(0.5, 7, 1), align='mid', rwidth=0.7)\n",
    "    plt.show()\n",
    "\n",
    "biased_die_histogram([1/6, 1/6, 1/6, 1/6, 1/6, 1/6], 1000)\n",
    "biased_die_histogram([1/10, 1/10, 1/10, 1/10, 1/10, 1/2], 1000)"
   ]
  },
  {
   "cell_type": "markdown",
   "metadata": {
    "id": "AwvFoEFtuoSd"
   },
   "source": [
    "# SVD, Pseudo-Inverse in numpy\n",
    "\n",
    "Generate a random matrix A of size (3, 6) with iid N(0,1) entries, and verify that the singular values squared are the eigenvalues of the matrix $A^TA$.\n",
    "\n",
    "Verify that the pseudo-inverse computed by ``np.linalg.pinv`` is the same as the pseudo-inverse computed from its definition using the SVD."
   ]
  },
  {
   "cell_type": "code",
   "execution_count": 12,
   "metadata": {
    "executionInfo": {
     "elapsed": 237,
     "status": "ok",
     "timestamp": 1649632544954,
     "user": {
      "displayName": "Theilo T",
      "userId": "15692770589730500183"
     },
     "user_tz": -120
    },
    "id": "-HvgvVNouoSd"
   },
   "outputs": [],
   "source": [
    "A = np.random.normal(0, 1, size=(3,6))"
   ]
  },
  {
   "cell_type": "code",
   "execution_count": 62,
   "metadata": {
    "colab": {
     "base_uri": "https://localhost:8080/"
    },
    "executionInfo": {
     "elapsed": 4,
     "status": "ok",
     "timestamp": 1649632545242,
     "user": {
      "displayName": "Theilo T",
      "userId": "15692770589730500183"
     },
     "user_tz": -120
    },
    "id": "H7bA6wTxuoSe",
    "outputId": "1e3009fc-8db3-4fec-9836-29172695cbf4"
   },
   "outputs": [
    {
     "name": "stdout",
     "output_type": "stream",
     "text": [
      "singular values squared :\n",
      " [12.03406184  2.72447589  1.34309543]\n",
      "eigen values of transpose(X).X :\n",
      " [12.03406184  2.72447589  1.34309543]\n",
      "OK\n",
      "\n",
      "pseudo inverse of X computed with np.linalg.pinv :  [[-0.48903661 -0.24705961  0.06963524]\n",
      " [-0.07539557 -0.03538733  0.04189073]\n",
      " [-0.54719526  0.32393759 -0.1739225 ]\n",
      " [ 0.3187661   0.18934053  0.02638695]\n",
      " [-0.01467961 -0.19982841  0.07261524]\n",
      " [-0.20017957  0.15347012 -0.44625483]]\n",
      "pseudo inverse of X computed using the SVD :  [[-0.48903661 -0.24705961  0.06963524]\n",
      " [-0.07539557 -0.03538733  0.04189073]\n",
      " [-0.54719526  0.32393759 -0.1739225 ]\n",
      " [ 0.3187661   0.18934053  0.02638695]\n",
      " [-0.01467961 -0.19982841  0.07261524]\n",
      " [-0.20017957  0.15347012 -0.44625483]]\n",
      "OK\n",
      "\n"
     ]
    }
   ],
   "source": [
    "def test_singular_values_eigenvalues(X, threshold=1e-4):\n",
    "    \"\"\"Test that the square of the singular values of X gives the eigenvalue of X^T.dot(X)\n",
    "    \"\"\"\n",
    "    singvals = np.linalg.svd(X)[1]\n",
    "    print(\"singular values squared :\\n\", singvals*singvals)\n",
    "    eigvals = np.linalg.eigvalsh(np.matmul(X.T, X))\n",
    "    eigvals = np.flip(eigvals[np.abs(eigvals)>threshold])\n",
    "    print(\"eigen values of transpose(X).X :\\n\", eigvals)\n",
    "    if np.allclose(singvals*singvals, eigvals):\n",
    "        print(\"OK\\n\")\n",
    "\n",
    "test_singular_values_eigenvalues(A)\n",
    "\n",
    "def test_pinv(X):\n",
    "    \"\"\"Test that computing the pseudo inverse with pinv or via svd gives the same result\n",
    "    \"\"\"\n",
    "    pinv_X = np.linalg.pinv(X)\n",
    "    print(\"pseudo inverse of X computed with np.linalg.pinv : \", pinv_X)\n",
    "    U, S, Vt = np.linalg.svd(X)\n",
    "    S_inv = np.zeros((Vt.shape[0], U.shape[0]))\n",
    "    for i, s in enumerate(S):\n",
    "        if s!=0:\n",
    "            S_inv[i, i] = 1/s\n",
    "        else :\n",
    "            S_inv[i, i] = 0\n",
    "    svdinv_X = Vt.T @ S_inv @ U.T\n",
    "    print(\"pseudo inverse of X computed using the SVD : \", svdinv_X)\n",
    "    if np.allclose(pinv_X, svdinv_X):\n",
    "        print(\"OK\\n\")\n",
    "\n",
    "test_pinv(A)"
   ]
  },
  {
   "cell_type": "markdown",
   "metadata": {
    "id": "trY1B7Z6uoSe"
   },
   "source": [
    "# Boxplots\n",
    "\n",
    "Using matplotlib, for each $\\theta = 1,2,...20$, generate 100 independent copies of a random variable with $N(\\theta, \\theta^{-1})$ distribution. Plot the generated random variables with boxplots, one boxplot for each value of $\\theta$ and the x-axis representing $\\theta$."
   ]
  },
  {
   "cell_type": "code",
   "execution_count": 43,
   "metadata": {
    "id": "wFdOoi40uoSf",
    "outputId": "53bcc660-ea2e-4d99-f8a5-d9e44a15a68f"
   },
   "outputs": [
    {
     "data": {
      "image/png": "[encoded data removed]",
      "text/plain": [
       "<Figure size 1800x1440 with 20 Axes>"
      ]
     },
     "metadata": {
      "needs_background": "light"
     },
     "output_type": "display_data"
    }
   ],
   "source": [
    "def plot_boxplot_normal_increasing_mean_and_variance():\n",
    "    \"\"\"Using matplotlib, for each theta = 1,2,...,20, \n",
    "    generate 100 independent copies of a random variable \n",
    "    with N(theta, theta^{-1}) distribution. \n",
    "    Plot the generated random variables with boxplots, \n",
    "    one boxplot for each value of theta and \n",
    "    the x-axis representing theta.\n",
    "    \"\"\"\n",
    "    fig, axes = plt.subplots(4, 5, figsize=(25, 20))\n",
    "    for theta in range(1, 21):\n",
    "        data = np.random.normal(theta, 1/theta, 100)\n",
    "        ax = axes[(theta-1)//5, (theta-1)%5]\n",
    "        ax.boxplot(data)\n",
    "        ax.set_title(rf\"$\\theta$ = {theta}\")\n",
    "    plt.plot()\n",
    "        \n",
    "        \n",
    "plot_boxplot_normal_increasing_mean_and_variance()"
   ]
  },
  {
   "cell_type": "markdown",
   "metadata": {
    "id": "9zPA1s3EuoSf"
   },
   "source": [
    "# Quantile quantile plots\n",
    "\n",
    "In order to check visually that a collection of random variables follow a certain distribution, quantile quantile plots are convenient."
   ]
  },
  {
   "cell_type": "code",
   "execution_count": null,
   "metadata": {
    "id": "2fhzxjIsuoSf"
   },
   "outputs": [],
   "source": [
    "n = 10\n",
    "X = np.random.randint(1000, size=n) # generate n numbers\n",
    "X_sort = np.sort(X) # sort them\n",
    "scores  = np.arange(1, n + 1) / (n+1) # their corresponding scores (many other methods are possible)"
   ]
  },
  {
   "cell_type": "code",
   "execution_count": null,
   "metadata": {
    "id": "goQcyT2duoSg",
    "outputId": "9cc101ab-c715-470c-a8d6-7bf48a3b1ce0"
   },
   "outputs": [
    {
     "data": {
      "image/png": "[encoded data removed]",
      "text/plain": [
       "<Figure size 432x288 with 1 Axes>"
      ]
     },
     "metadata": {
      "needs_background": "light"
     },
     "output_type": "display_data"
    },
    {
     "data": {
      "image/png": "[encoded data removed]",
      "text/plain": [
       "<Figure size 432x288 with 1 Axes>"
      ]
     },
     "metadata": {
      "needs_background": "light"
     },
     "output_type": "display_data"
    },
    {
     "data": {
      "image/png": "[encoded data removed]",
      "text/plain": [
       "<Figure size 432x288 with 1 Axes>"
      ]
     },
     "metadata": {
      "needs_background": "light"
     },
     "output_type": "display_data"
    },
    {
     "name": "stdout",
     "output_type": "stream",
     "text": [
      "20%, 50% and 60% quantiles: [-1.37638192  0.          0.3249197 ]\n"
     ]
    }
   ],
   "source": [
    "# Getting theoretical quantities on distributions\n",
    "cauchy = scipy.stats.cauchy # many others are available\n",
    "# the probability density function\n",
    "X = np.arange(-100, 100, 0.1)\n",
    "plt.figure()\n",
    "plt.title(\"The pdf of Cauchy density\")\n",
    "plt.plot(X, cauchy.pdf(X))\n",
    "plt.show()\n",
    "# the cumulative distribution function\n",
    "X = np.arange(-100, 100, 0.1)\n",
    "plt.figure()\n",
    "plt.title(\"The cdf of Cauchy density\")\n",
    "plt.plot(X, cauchy.cdf(X))\n",
    "plt.show()\n",
    "# the percent point function (inverse of cdf)\n",
    "X = np.arange(0, 1, 0.01)\n",
    "plt.figure()\n",
    "plt.title(\"The ppf of Cauchy density\")\n",
    "plt.plot(X, cauchy.ppf(X))\n",
    "plt.show()\n",
    "# Theoretical 20%, 50% and 60% quantiles of cauchy distribution\n",
    "quantiles = cauchy.ppf((0.2, 0.5, 0.6))\n",
    "print(\"20%, 50% and 60% quantiles:\", quantiles)"
   ]
  },
  {
   "cell_type": "markdown",
   "metadata": {
    "id": "h6ZHCSWTuoSg"
   },
   "source": [
    "1. Generate 100 independent copies of N(1,3) random variables and plot the QQ-plot\n",
    "against the theoretical quantiles of the N(0,1), N(5, 3) and N(1,3) distribution. Superpose on the plot the line y=x.\n",
    "\n",
    "2. Generate 100 independent copies of chi-square random variables with 5 degrees of freedom,\n",
    "and compare those aginst the theoretical quantiles of the N(5,1) distribution, the $\\chi^2_4$ distribution, the $\\chi^2_5$ distribution, the $\\chi^2_6$ distribution.Superpose on the plot the line y=x."
   ]
  },
  {
   "cell_type": "code",
   "execution_count": null,
   "metadata": {
    "id": "_UeLmXZcuoSg",
    "outputId": "adf3607f-afd8-45c6-d42d-e08b8f0b84dc"
   },
   "outputs": [
    {
     "ename": "NotImplementedError",
     "evalue": "",
     "output_type": "error",
     "traceback": [
      "\u001b[0;31m---------------------------------------------------------------------------\u001b[0m",
      "\u001b[0;31mNotImplementedError\u001b[0m                       Traceback (most recent call last)",
      "\u001b[0;32m/tmp/ipykernel_841398/3108092858.py\u001b[0m in \u001b[0;36m<module>\u001b[0;34m\u001b[0m\n\u001b[1;32m     22\u001b[0m     \u001b[0msm\u001b[0m\u001b[0;34m.\u001b[0m\u001b[0mqqplot\u001b[0m\u001b[0;34m(\u001b[0m\u001b[0mX\u001b[0m\u001b[0;34m,\u001b[0m \u001b[0mline\u001b[0m\u001b[0;34m=\u001b[0m\u001b[0;34m'45'\u001b[0m\u001b[0;34m)\u001b[0m\u001b[0;34m\u001b[0m\u001b[0;34m\u001b[0m\u001b[0m\n\u001b[1;32m     23\u001b[0m \u001b[0;34m\u001b[0m\u001b[0m\n\u001b[0;32m---> 24\u001b[0;31m \u001b[0mtest_qqplot_sm\u001b[0m\u001b[0;34m(\u001b[0m\u001b[0;34m)\u001b[0m\u001b[0;34m\u001b[0m\u001b[0;34m\u001b[0m\u001b[0m\n\u001b[0m",
      "\u001b[0;32m/tmp/ipykernel_841398/3108092858.py\u001b[0m in \u001b[0;36mtest_qqplot_sm\u001b[0;34m()\u001b[0m\n\u001b[1;32m     19\u001b[0m     \"\"\"\n\u001b[1;32m     20\u001b[0m     \u001b[0mX\u001b[0m \u001b[0;34m=\u001b[0m \u001b[0mnp\u001b[0m\u001b[0;34m.\u001b[0m\u001b[0mrandom\u001b[0m\u001b[0;34m.\u001b[0m\u001b[0mnormal\u001b[0m\u001b[0;34m(\u001b[0m\u001b[0;36m0\u001b[0m\u001b[0;34m,\u001b[0m \u001b[0;36m1\u001b[0m\u001b[0;34m,\u001b[0m \u001b[0msize\u001b[0m\u001b[0;34m=\u001b[0m\u001b[0;36m100\u001b[0m\u001b[0;34m)\u001b[0m\u001b[0;34m\u001b[0m\u001b[0;34m\u001b[0m\u001b[0m\n\u001b[0;32m---> 21\u001b[0;31m     \u001b[0mqqplot\u001b[0m\u001b[0;34m(\u001b[0m\u001b[0mX\u001b[0m\u001b[0;34m,\u001b[0m \u001b[0mscipy\u001b[0m\u001b[0;34m.\u001b[0m\u001b[0mstats\u001b[0m\u001b[0;34m.\u001b[0m\u001b[0mnorm\u001b[0m\u001b[0;34m)\u001b[0m\u001b[0;34m\u001b[0m\u001b[0;34m\u001b[0m\u001b[0m\n\u001b[0m\u001b[1;32m     22\u001b[0m     \u001b[0msm\u001b[0m\u001b[0;34m.\u001b[0m\u001b[0mqqplot\u001b[0m\u001b[0;34m(\u001b[0m\u001b[0mX\u001b[0m\u001b[0;34m,\u001b[0m \u001b[0mline\u001b[0m\u001b[0;34m=\u001b[0m\u001b[0;34m'45'\u001b[0m\u001b[0;34m)\u001b[0m\u001b[0;34m\u001b[0m\u001b[0;34m\u001b[0m\u001b[0m\n\u001b[1;32m     23\u001b[0m \u001b[0;34m\u001b[0m\u001b[0m\n",
      "\u001b[0;32m/tmp/ipykernel_841398/3108092858.py\u001b[0m in \u001b[0;36mqqplot\u001b[0;34m(data, distribution)\u001b[0m\n\u001b[1;32m     12\u001b[0m         \u001b[0mTheoretical\u001b[0m \u001b[0mdistribution\u001b[0m \u001b[0mto\u001b[0m \u001b[0mcompare\u001b[0m \u001b[0mto\u001b[0m\u001b[0;34m\u001b[0m\u001b[0;34m\u001b[0m\u001b[0m\n\u001b[1;32m     13\u001b[0m     \"\"\"\n\u001b[0;32m---> 14\u001b[0;31m     \u001b[0;32mraise\u001b[0m \u001b[0mNotImplementedError\u001b[0m\u001b[0;34m\u001b[0m\u001b[0;34m\u001b[0m\u001b[0m\n\u001b[0m\u001b[1;32m     15\u001b[0m \u001b[0;34m\u001b[0m\u001b[0m\n\u001b[1;32m     16\u001b[0m \u001b[0;32mdef\u001b[0m \u001b[0mtest_qqplot_sm\u001b[0m\u001b[0;34m(\u001b[0m\u001b[0;34m)\u001b[0m\u001b[0;34m:\u001b[0m\u001b[0;34m\u001b[0m\u001b[0;34m\u001b[0m\u001b[0m\n",
      "\u001b[0;31mNotImplementedError\u001b[0m: "
     ]
    }
   ],
   "source": [
    "def qqplot(data, distribution):\n",
    "    \"\"\"\n",
    "    Generate a qqplot using the quantiles of the data and the theoretical data of the distribution.\n",
    "    Superpose on the plot the line y=x.\n",
    "    \n",
    "    Parameters\n",
    "    ----------\n",
    "    data: np array of shape (100,)\n",
    "        Empirical data\n",
    "    \n",
    "    distribution: distribution from scipy.stats\n",
    "        Theoretical distribution to compare to\n",
    "    \"\"\"\n",
    "    raise NotImplementedError\n",
    "    \n",
    "def test_qqplot_sm():\n",
    "    \"\"\"\n",
    "    Test the plot is the same as in sm.qqplot\n",
    "    \"\"\"\n",
    "    X = np.random.normal(0, 1, size=100)\n",
    "    qqplot(X, scipy.stats.norm)\n",
    "    sm.qqplot(X, line='45')\n",
    "    \n",
    "test_qqplot_sm()"
   ]
  },
  {
   "cell_type": "code",
   "execution_count": null,
   "metadata": {
    "id": "ld6uVP7VuoSh",
    "outputId": "90fa3276-b1b2-4de3-eff3-84fd60476d62"
   },
   "outputs": [
    {
     "ename": "NotImplementedError",
     "evalue": "",
     "output_type": "error",
     "traceback": [
      "\u001b[0;31m---------------------------------------------------------------------------\u001b[0m",
      "\u001b[0;31mNotImplementedError\u001b[0m                       Traceback (most recent call last)",
      "\u001b[0;32m/tmp/ipykernel_841398/3077871989.py\u001b[0m in \u001b[0;36m<module>\u001b[0;34m\u001b[0m\n\u001b[0;32m----> 1\u001b[0;31m \u001b[0;32mraise\u001b[0m \u001b[0mNotImplementedError\u001b[0m\u001b[0;34m\u001b[0m\u001b[0;34m\u001b[0m\u001b[0m\n\u001b[0m\u001b[1;32m      2\u001b[0m \u001b[0;31m# Answer 1.\u001b[0m\u001b[0;34m\u001b[0m\u001b[0;34m\u001b[0m\u001b[0;34m\u001b[0m\u001b[0m\n",
      "\u001b[0;31mNotImplementedError\u001b[0m: "
     ]
    }
   ],
   "source": [
    "raise NotImplementedError\n",
    "# Answer 1."
   ]
  },
  {
   "cell_type": "code",
   "execution_count": null,
   "metadata": {
    "id": "OU4SIc2UuoSh",
    "outputId": "5680eccc-8a0c-46fa-a484-eeb5be4390a9"
   },
   "outputs": [
    {
     "ename": "NotImplementedError",
     "evalue": "",
     "output_type": "error",
     "traceback": [
      "\u001b[0;31m---------------------------------------------------------------------------\u001b[0m",
      "\u001b[0;31mNotImplementedError\u001b[0m                       Traceback (most recent call last)",
      "\u001b[0;32m/tmp/ipykernel_841398/2453162538.py\u001b[0m in \u001b[0;36m<module>\u001b[0;34m\u001b[0m\n\u001b[1;32m      1\u001b[0m \u001b[0;31m# Answer 2.\u001b[0m\u001b[0;34m\u001b[0m\u001b[0;34m\u001b[0m\u001b[0;34m\u001b[0m\u001b[0m\n\u001b[0;32m----> 2\u001b[0;31m \u001b[0;32mraise\u001b[0m \u001b[0mNotImplementedError\u001b[0m\u001b[0;34m\u001b[0m\u001b[0;34m\u001b[0m\u001b[0m\n\u001b[0m",
      "\u001b[0;31mNotImplementedError\u001b[0m: "
     ]
    }
   ],
   "source": [
    "# Answer 2.\n",
    "raise NotImplementedError"
   ]
  },
  {
   "cell_type": "markdown",
   "metadata": {
    "id": "Rll2HuHRuoSh"
   },
   "source": [
    "# Generate a simple regression model\n",
    "\n",
    "Given the sample size n and dimension p, generate a dataset (y, X) where y has size n and X has size n times p,\n",
    "such that\n",
    "$y = X \\beta^* + \\beta_0^* + \\epsilon$ where $\\epsilon$ has iid $N(0,\\sigma^2)$ entries, $X$ has iid $N(0,1)$ entries, and $\\beta^*\\in R^p$ has norm equal to the signal strength parameter, and $\\beta_0^*$ is the intercept."
   ]
  },
  {
   "cell_type": "code",
   "execution_count": 106,
   "metadata": {
    "id": "ULtQPdKjuoSh",
    "outputId": "c15b4595-9f73-49d6-9075-b3a0d3197edb"
   },
   "outputs": [
    {
     "name": "stdout",
     "output_type": "stream",
     "text": [
      "OK\n",
      "OK\n"
     ]
    }
   ],
   "source": [
    "def linear_regression(X, beta_true, sigma):\n",
    "    \"\"\"\n",
    "    Applies the linear regression model\n",
    "    \n",
    "    Parameters\n",
    "    -----------\n",
    "    \n",
    "    X: np array of shape (n, p)\n",
    "    input features\n",
    "\n",
    "    beta_true: np array of shape (p)\n",
    "    true coefficients\n",
    "    \n",
    "    sigma: float\n",
    "    noise standard deviation \n",
    "\n",
    "    Return\n",
    "    ------\n",
    "    y: np array of shape (n,)\n",
    "    responses generated accroding to the linear regression model\n",
    "    y= X beta_true + eps\n",
    "    \"\"\"\n",
    "    n, p = X.shape\n",
    "    epsilon = np.random.normal(0, sigma, n)\n",
    "    return X@beta_true + epsilon\n",
    "\n",
    "def generate_dataset(n, p, sigma=0.7, signal_strength=2):\n",
    "    \"\"\"\n",
    "    Generate a data set (with intercept = 0)\n",
    "    Take beta_star uniformly in the sphere of length: signal_strength\n",
    "    Parameters\n",
    "    ----------\n",
    "    n: int\n",
    "        number of samples\n",
    "    p: int\n",
    "        dimension\n",
    "    sigma: float\n",
    "        noise standard deviation\n",
    "    signal_strength: float\n",
    "        norm of the true parameter b_true\n",
    "    \n",
    "    Return\n",
    "    X: np array of shape (n, p)\n",
    "        Features\n",
    "    y: np array of shape (n,)\n",
    "        Target\n",
    "    beta_true: np array of shape (p,)\n",
    "    \"\"\"\n",
    "    X = np.random.normal(0, 1, (n, p))\n",
    "    beta_true = np.random.uniform(size=p)\n",
    "    beta_true *= signal_strength/np.linalg.norm(beta_true)\n",
    "    y = linear_regression(X, beta_true, sigma)\n",
    "    return X, y, beta_true\n",
    "\n",
    "def test_nointercept():\n",
    "    \"\"\"\n",
    "    Check that X.dot(b_true) = y when the noise is 0\n",
    "    \"\"\"\n",
    "    X, y, b_true = generate_dataset(100, 10, sigma=0, signal_strength=1)\n",
    "    if np.testing.assert_allclose(X.dot(b_true), y) is None:\n",
    "        print(\"OK\")\n",
    "\n",
    "def generate_dataset_with_intercept(n, p, sigma=0.7, signal_strength=2):\n",
    "    \"\"\"\n",
    "    Generate a data set, same as before, but here the returned array X should have\n",
    "    p+1 columns, and the first column contains only 1,1,...,1 to accout for\n",
    "    possible intercept.\n",
    "    Parameters\n",
    "    ----------\n",
    "    n: int\n",
    "        number of samples\n",
    "    p: int\n",
    "        dimension\n",
    "    sigma: float\n",
    "        noise standard deviation\n",
    "    signal_strength: float\n",
    "        norm of the true parameter b_true\n",
    "    \n",
    "    Return\n",
    "    X: np array of shape (n, p + 1)\n",
    "        Features, last column contains only ones\n",
    "    y: np array of shape (n,)\n",
    "        Target\n",
    "    b_true: np array of shape (p+1,)\n",
    "        true coefficients (last one is the intercept)\n",
    "    \"\"\"\n",
    "    X = np.hstack((np.random.normal(0, 1, (n, p)), np.ones((n, 1))))\n",
    "    beta_true = np.random.uniform(size=p+1)\n",
    "    beta_true *= signal_strength/np.linalg.norm(beta_true)\n",
    "    y = linear_regression(X, beta_true, sigma)\n",
    "    return X, y, beta_true\n",
    "\n",
    "def test_intercept():\n",
    "    \"\"\"\n",
    "    Check that X.dot(b_true) = y when the noise is 0 and intercept = 0\n",
    "    \"\"\"\n",
    "    X, y, b_true = generate_dataset_with_intercept(100, 10, sigma=0, signal_strength=1)\n",
    "    if np.testing.assert_allclose(X[:, :-1].dot(b_true[:-1]) + b_true[-1], y) is None :\n",
    "        print(\"OK\")\n",
    "\n",
    "test_nointercept()\n",
    "test_intercept()"
   ]
  },
  {
   "cell_type": "markdown",
   "metadata": {
    "id": "-dHP2dqSuoSi"
   },
   "source": [
    "# Least-squares\n",
    "\n",
    "Given a design matrix X and response y,\n",
    "implement the least-squares estimate $\\hat\\beta = (X^TX)^\\dagger X^Ty$\n",
    "using several methods:\n",
    "\n",
    "1. using the SVD of X `np.linalg.svd`\n",
    "2. using the pseudo-inverse of X `np.linalg.pinv`\n",
    "3. using the inverse of $X^TX$ if full-rank, and its pseudo-inverse otherwise\n",
    "4. using `scipy.linalg.lstsq`\n",
    "\n",
    "For $p=10, n=20$, generate a dataset using the previous functions and verify that all methods give the correct estimate of $\\beta$ when there is no noise.\n",
    "\n",
    "For $p=10, n=20$, generate a dataset using the previous functions and verify that all methods give the same estimate.\n"
   ]
  },
  {
   "cell_type": "code",
   "execution_count": 71,
   "metadata": {
    "id": "47foIYI1uoSi",
    "outputId": "594d21ba-7eb9-46e1-8d51-c1bff3f7d254"
   },
   "outputs": [
    {
     "name": "stdout",
     "output_type": "stream",
     "text": [
      "SVD method : OK\n",
      "pinv method : OK\n",
      "inv/pinv method : OK\n",
      "scipy method : OK\n",
      "\n",
      "\n",
      "All methods return same estimate\n"
     ]
    }
   ],
   "source": [
    "def compute_least_squares_using_SVD(X, y):\n",
    "    U, S, Vt = np.linalg.svd(X)\n",
    "    S_inv = np.zeros((Vt.shape[0], U.shape[0]))\n",
    "    for i, s in enumerate(S):\n",
    "        if s!=0:\n",
    "            S_inv[i, i] = 1/s\n",
    "        else :\n",
    "            S_inv[i, i] = 0\n",
    "    svdinv_X = Vt.T @ S_inv @ U.T\n",
    "    return svdinv_X @ y\n",
    "    \n",
    "def compute_least_squares_using_pseudo_inverse(X, y):\n",
    "    return np.linalg.pinv(X) @ y\n",
    "    \n",
    "def compute_least_squares_using_method3(X, y, threshold=1e-5):\n",
    "    XtX = X.T@X\n",
    "    if np.linalg.det(XtX) < threshold:\n",
    "        return np.linalg.inv(XtX) @ X.T @ y\n",
    "    else:\n",
    "        return np.linalg.pinv(XtX) @ X.T @ y\n",
    "\n",
    "def compute_least_squares_using_scipy(X, y):\n",
    "    beta_estimate, _, _, _ = scipy.linalg.lstsq(X, y)\n",
    "    return beta_estimate\n",
    "    \n",
    "def test_lsqr():\n",
    "    \"\"\"Test that all methods yield the correct beta when there is no noise\n",
    "    \"\"\"\n",
    "    X, y, b_true = generate_dataset_with_intercept(20, 10, sigma=0)\n",
    "    b_svd = compute_least_squares_using_SVD(X, y)\n",
    "    if np.testing.assert_allclose(b_svd, b_true) is None :\n",
    "        print(\"SVD method : OK\")\n",
    "    b_pinv = compute_least_squares_using_pseudo_inverse(X, y)\n",
    "    if np.testing.assert_allclose(b_pinv, b_true) is None :\n",
    "        print(\"pinv method : OK\")\n",
    "    b_inv_pinv = compute_least_squares_using_method3(X, y)\n",
    "    if np.testing.assert_allclose(b_inv_pinv, b_true) is None :\n",
    "        print(\"inv/pinv method : OK\")\n",
    "    b_scipy = compute_least_squares_using_scipy(X, y)\n",
    "    if np.testing.assert_allclose(b_inv_pinv, b_true) is None :\n",
    "        print(\"scipy method : OK\")\n",
    "        \n",
    "def test_same_estimate():\n",
    "    \"\"\" Test that all methods yield the same estimate of beta\n",
    "    \"\"\"\n",
    "    X, y, b_true = generate_dataset_with_intercept(20, 10)\n",
    "    b_svd = compute_least_squares_using_SVD(X, y)\n",
    "    b_pinv = compute_least_squares_using_pseudo_inverse(X, y)\n",
    "    b_inv_pinv = compute_least_squares_using_method3(X, y)\n",
    "    b_scipy = compute_least_squares_using_scipy(X, y)\n",
    "    if (np.testing.assert_allclose(b_svd, b_pinv) is None) and (np.testing.assert_allclose(b_pinv, b_inv_pinv) is None) and (np.testing.assert_allclose(b_inv_pinv, b_scipy) is None):\n",
    "        print(\"All methods return same estimate\")\n",
    "        \n",
    "test_lsqr()\n",
    "print(\"\\n\")\n",
    "test_same_estimate()"
   ]
  },
  {
   "cell_type": "markdown",
   "metadata": {
    "id": "jZTHeg50uoSi"
   },
   "source": [
    "# The distribution of the MLE, the residuals, and the loss\n",
    "\n",
    "By computing 100 independent datasets with $p=10, n=30$, verify with histograms and\n",
    "QQ-plots that the squared norm $\\|y-X\\hat\\beta\\|^2/\\sigma^2$ has chi square distribution, and recall its degrees of freedom."
   ]
  },
  {
   "cell_type": "code",
   "execution_count": 113,
   "metadata": {
    "id": "UtDpbIsUuoSj",
    "outputId": "27ded82c-6497-4ce7-d59a-b75bd9262bc6"
   },
   "outputs": [
    {
     "data": {
      "image/png": "[encoded data removed]",
      "text/plain": [
       "<Figure size 432x288 with 1 Axes>"
      ]
     },
     "metadata": {
      "needs_background": "light"
     },
     "output_type": "display_data"
    },
    {
     "data": {
      "image/png": "[encoded data removed]",
      "text/plain": [
       "<Figure size 432x288 with 1 Axes>"
      ]
     },
     "metadata": {
      "needs_background": "light"
     },
     "output_type": "display_data"
    }
   ],
   "source": [
    "from scipy.stats import chi2\n",
    "def error_residual_plot(sigma=0.7):\n",
    "    n, p = 30, 10\n",
    "    squared_norms = np.array([])\n",
    "    for _ in range(1000):\n",
    "        X, y, _ = generate_dataset(n, p, sigma=sigma)\n",
    "        beta_hat = compute_least_squares_using_method3(X, y)\n",
    "        squared_norms = np.append(squared_norms, np.linalg.norm(y - X@beta_hat)**2 / sigma**2)\n",
    "    # Plot histogram and chi distribution\n",
    "    plt.title(\"Squared norms histogram\")\n",
    "    plt.xlabel(\"Squared norm\")\n",
    "    plt.ylabel(\"Probability\")\n",
    "    hist = plt.hist(squared_norms, density=True)\n",
    "    x_plot = np.linspace(0,np.max(squared_norms),100)\n",
    "    plt.plot(x_plot, chi2.pdf(x_plot, df=n-p))\n",
    "    plt.show()\n",
    "    # Make pan pan au Q-Q\n",
    "    sm.qqplot(squared_norms, dist=chi2(n-p), line='45')\n",
    "    \n",
    "    \n",
    "error_residual_plot()"
   ]
  },
  {
   "cell_type": "markdown",
   "metadata": {
    "id": "S8ynzUsJuoSj"
   },
   "source": [
    "# The curve of the risk of the MLE in high dimension\n",
    "\n",
    "1. Fix $n=200$, noise level $\\sigma^2=0.7$, signal strength $2$, and a grid of values for $p/n$, say $0.1, 0.2, 0.3, 0.4, ..., 2.9, 3.0$. For each for of $n, p$, generate $10$ independent datasets and plot the boxplots corresponding the squared error $\\|\\hat\\beta - \\beta^*\\|^2$ for each given ratio $p/n$. If $p>n$, make sure that $\\hat\\beta$ is the solution $(X^TX)^\\dagger X^Ty$. Plot the corresponding theoretical curves for the expected squared error found using the formula for expected inverse Wishart matrices.\n",
    "\n",
    "2. Bonus: Plot also the boxplots for the the bias and variance of the squared error. "
   ]
  },
  {
   "cell_type": "code",
   "execution_count": null,
   "metadata": {
    "id": "50mWRNGGuoSj",
    "outputId": "111a0859-8c8d-44f7-813a-e40df41f6e75"
   },
   "outputs": [
    {
     "ename": "NotImplementedError",
     "evalue": "",
     "output_type": "error",
     "traceback": [
      "\u001b[0;31m---------------------------------------------------------------------------\u001b[0m",
      "\u001b[0;31mNotImplementedError\u001b[0m                       Traceback (most recent call last)",
      "\u001b[0;32m/tmp/ipykernel_841398/4148399174.py\u001b[0m in \u001b[0;36m<module>\u001b[0;34m\u001b[0m\n\u001b[1;32m      1\u001b[0m \u001b[0;31m# Question 1\u001b[0m\u001b[0;34m\u001b[0m\u001b[0;34m\u001b[0m\u001b[0;34m\u001b[0m\u001b[0m\n\u001b[0;32m----> 2\u001b[0;31m \u001b[0;32mraise\u001b[0m \u001b[0mNotImplementedError\u001b[0m\u001b[0;34m\u001b[0m\u001b[0;34m\u001b[0m\u001b[0m\n\u001b[0m\u001b[1;32m      3\u001b[0m \u001b[0;31m# Question 2\u001b[0m\u001b[0;34m\u001b[0m\u001b[0;34m\u001b[0m\u001b[0;34m\u001b[0m\u001b[0m\n\u001b[1;32m      4\u001b[0m \u001b[0;32mraise\u001b[0m \u001b[0mNotImplementedError\u001b[0m\u001b[0;34m\u001b[0m\u001b[0;34m\u001b[0m\u001b[0m\n",
      "\u001b[0;31mNotImplementedError\u001b[0m: "
     ]
    }
   ],
   "source": [
    "# Question 1\n",
    "\n",
    "\n",
    "# Question 2\n",
    "raise NotImplementedError"
   ]
  },
  {
   "cell_type": "markdown",
   "metadata": {
    "id": "oMpztJEKuoSj"
   },
   "source": [
    "Si $n>p$ :\n",
    "$$\n",
    "    E[\\|{\\hat{\\beta} - \\beta^*}\\|^2] = \\sigma^2 \\frac{p}{n-p-1}\n",
    "$$\n",
    "Si $n<p-1$ :\n",
    "$$\n",
    "    E[\\|{\\hat{\\beta} - \\beta^*}\\|^2] = \\tau^2 (1 - \\frac{n}{p}) + \\sigma^2 \\frac{n}{p-n-1}\n",
    "$$"
   ]
  }
 ],
 "metadata": {
  "colab": {
   "name": "TP1 Numpy and Maximum Likelihood in linear regression.ipynb",
   "provenance": []
  },
  "kernelspec": {
   "display_name": "Python 3",
   "language": "python",
   "name": "python3"
  },
  "language_info": {
   "codemirror_mode": {
    "name": "ipython",
    "version": 3
   },
   "file_extension": ".py",
   "mimetype": "text/x-python",
   "name": "python",
   "nbconvert_exporter": "python",
   "pygments_lexer": "ipython3",
   "version": "3.8.8"
  }
 },
 "nbformat": 4,
 "nbformat_minor": 4
}
